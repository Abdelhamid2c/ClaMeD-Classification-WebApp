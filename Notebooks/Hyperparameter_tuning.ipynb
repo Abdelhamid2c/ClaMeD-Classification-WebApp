{
 "cells": [
  {
   "cell_type": "code",
   "execution_count": 1,
   "id": "40cb70bd",
   "metadata": {},
   "outputs": [],
   "source": [
    "import pandas as pd\n",
    "import numpy as np\n",
    "import tensorflow as tf\n",
    "from tensorflow.keras import layers"
   ]
  },
  {
   "cell_type": "markdown",
   "id": "32234824",
   "metadata": {},
   "source": [
    "## Getting the data and preprocess it"
   ]
  },
  {
   "cell_type": "code",
   "execution_count": 2,
   "id": "027b2990",
   "metadata": {},
   "outputs": [],
   "source": [
    "train_df = pd.read_csv('../Data/Processed/train.csv')\n",
    "val_df = pd.read_csv('../Data/Processed/val.csv')\n",
    "test_df = pd.read_csv('../Data/Processed/test.csv')\n",
    "\n",
    "\n",
    "train_sentences = train_df[\"text\"].tolist()\n",
    "val_sentences = val_df[\"text\"].tolist()\n",
    "test_sentences = test_df[\"text\"].tolist()\n"
   ]
  },
  {
   "cell_type": "code",
   "execution_count": 3,
   "id": "8f1515ac",
   "metadata": {},
   "outputs": [],
   "source": [
    "# How long is each sentence on average?\n",
    "sent_lens = [len(sentence.split()) for sentence in train_sentences]\n",
    "avg_sent_len = np.mean(sent_lens)\n",
    "# How long of a sentence covers 95% of the lengths?\n",
    "output_seq_len = int(np.percentile(sent_lens, 95))"
   ]
  },
  {
   "cell_type": "code",
   "execution_count": 4,
   "id": "b4830ee3",
   "metadata": {},
   "outputs": [
    {
     "data": {
      "text/plain": [
       "55"
      ]
     },
     "execution_count": 4,
     "metadata": {},
     "output_type": "execute_result"
    }
   ],
   "source": [
    "output_seq_len"
   ]
  },
  {
   "cell_type": "code",
   "execution_count": 5,
   "id": "03ab4a90",
   "metadata": {},
   "outputs": [
    {
     "name": "stderr",
     "output_type": "stream",
     "text": [
      "E:\\anaconda3\\envs\\tf\\lib\\site-packages\\sklearn\\preprocessing\\_encoders.py:972: FutureWarning: `sparse` was renamed to `sparse_output` in version 1.2 and will be removed in 1.4. `sparse_output` is ignored unless you leave `sparse` to its default value.\n",
      "  warnings.warn(\n"
     ]
    },
    {
     "data": {
      "text/plain": [
       "array([[0., 0., 0., 1., 0.],\n",
       "       [0., 0., 1., 0., 0.],\n",
       "       [0., 0., 1., 0., 0.],\n",
       "       ...,\n",
       "       [0., 0., 0., 0., 1.],\n",
       "       [0., 1., 0., 0., 0.],\n",
       "       [0., 1., 0., 0., 0.]])"
      ]
     },
     "execution_count": 5,
     "metadata": {},
     "output_type": "execute_result"
    }
   ],
   "source": [
    "# One hot encode labels\n",
    "from sklearn.preprocessing import OneHotEncoder\n",
    "one_hot_encoder = OneHotEncoder(sparse=False)\n",
    "train_labels_one_hot = one_hot_encoder.fit_transform(train_df[\"target\"].to_numpy().reshape(-1, 1))\n",
    "val_labels_one_hot = one_hot_encoder.transform(val_df[\"target\"].to_numpy().reshape(-1, 1))\n",
    "test_labels_one_hot = one_hot_encoder.transform(test_df[\"target\"].to_numpy().reshape(-1, 1))\n",
    "\n",
    "# Check what training labels look like\n",
    "train_labels_one_hot"
   ]
  },
  {
   "cell_type": "code",
   "execution_count": 6,
   "id": "f19bf835",
   "metadata": {},
   "outputs": [
    {
     "data": {
      "text/plain": [
       "array([3, 2, 2, ..., 4, 1, 1])"
      ]
     },
     "execution_count": 6,
     "metadata": {},
     "output_type": "execute_result"
    }
   ],
   "source": [
    "# Extract labels (\"target\" columns) and encode them into integers \n",
    "from sklearn.preprocessing import LabelEncoder\n",
    "label_encoder = LabelEncoder()\n",
    "train_labels_encoded = label_encoder.fit_transform(train_df[\"target\"].to_numpy())\n",
    "val_labels_encoded = label_encoder.transform(val_df[\"target\"].to_numpy())\n",
    "test_labels_encoded = label_encoder.transform(test_df[\"target\"].to_numpy())\n",
    "\n",
    "# Check what training labels look like\n",
    "train_labels_encoded"
   ]
  },
  {
   "cell_type": "markdown",
   "id": "b3d1afe7",
   "metadata": {},
   "source": [
    "## Create word embedding"
   ]
  },
  {
   "cell_type": "code",
   "execution_count": 7,
   "id": "694af2ff",
   "metadata": {},
   "outputs": [],
   "source": [
    "# Number of words in our vocabulary\n",
    "max_tokens = 68000"
   ]
  },
  {
   "cell_type": "code",
   "execution_count": 8,
   "id": "c4426749",
   "metadata": {},
   "outputs": [],
   "source": [
    "from tensorflow.keras.layers import TextVectorization\n",
    "\n",
    "text_vectorizer = TextVectorization(max_tokens = max_tokens, # Number of words in vocabulary\n",
    "                                   output_sequence_length = 55) # desired output length of vectorized sequences\n"
   ]
  },
  {
   "cell_type": "code",
   "execution_count": 9,
   "id": "b5795a14",
   "metadata": {},
   "outputs": [],
   "source": [
    "# Adapt text vectorizer to training sentences\n",
    "text_vectorizer.adapt(train_sentences)"
   ]
  },
  {
   "cell_type": "code",
   "execution_count": 10,
   "id": "ad2c557b",
   "metadata": {},
   "outputs": [],
   "source": [
    "# Create one-hot-encoded tensors \n",
    "train_line_numbers_one_hot = tf.one_hot(train_df[\"line_number\"].to_numpy(),\n",
    "                                       depth = 15)\n",
    "val_line_numbers_one_hot = tf.one_hot(val_df[\"line_number\"].to_numpy(),\n",
    "                                     depth = 15)\n",
    "test_line_numbers_one_hot = tf.one_hot(test_df[\"line_number\"].to_numpy(),\n",
    "                                      depth = 15)"
   ]
  },
  {
   "cell_type": "code",
   "execution_count": 11,
   "id": "87f64549",
   "metadata": {},
   "outputs": [],
   "source": [
    "train_total_lines_one_hot = tf.one_hot(train_df[\"total_lines\"].to_numpy(), depth=20)\n",
    "val_total_lines_one_hot = tf.one_hot(val_df[\"total_lines\"].to_numpy(), depth=20)\n",
    "test_total_lines_one_hot = tf.one_hot(test_df[\"total_lines\"].to_numpy(), depth=20)"
   ]
  },
  {
   "cell_type": "code",
   "execution_count": 12,
   "id": "b47434b4",
   "metadata": {},
   "outputs": [],
   "source": [
    "# Download pretrained TensorFlow Hub USE\n",
    "import tensorflow_hub as hub\n",
    "tf_hub_embedding_layer = hub.KerasLayer(\"https://tfhub.dev/google/universal-sentence-encoder/4\",\n",
    "                                        trainable=False,\n",
    "                                        name=\"universal_sentence_encoder\")"
   ]
  },
  {
   "cell_type": "markdown",
   "id": "c41795a5",
   "metadata": {},
   "source": [
    "## Create char embedding"
   ]
  },
  {
   "cell_type": "code",
   "execution_count": 13,
   "id": "76985080",
   "metadata": {},
   "outputs": [],
   "source": [
    "def split_chars(text):\n",
    "  return \" \".join(list(text))\n",
    "\n",
    "train_chars = [split_chars(sentence) for sentence in train_sentences]\n",
    "val_chars = [split_chars(sentence) for sentence in val_sentences]\n",
    "test_chars = [split_chars(sentence) for sentence in test_sentences]\n",
    "char_lens = [len(sentence) for sentence in train_sentences]\n",
    "mean_char_len = np.mean(char_lens)\n",
    "output_seq_char_len = int(np.percentile(char_lens, 95))\n",
    "\n",
    "import string\n",
    "alphabet = string.ascii_lowercase + string.digits + string.punctuation\n",
    "# Create char-level token vectorizer instance\n",
    "\n",
    "# num characters in alphabet + space + OOV (out of vocabulary or unknown)\n",
    "NUM_CHAR_TOKENS = len(alphabet) + 2 \n",
    "char_vectorizer = TextVectorization(max_tokens = NUM_CHAR_TOKENS,\n",
    "                                   output_sequence_length = output_seq_char_len,\n",
    "                                   standardize = \"lower_and_strip_punctuation\",\n",
    "                                   name = \"char_vectorizer\") \n",
    "\n",
    "# Adapt character vectorizer to training characters\n",
    "char_vectorizer.adapt(train_chars)\n",
    "# Create char embedding layer\n",
    "char_embed = layers.Embedding(input_dim=NUM_CHAR_TOKENS, # number of different characters\n",
    "                              output_dim=25, # embedding dimension of each character \n",
    "                              mask_zero=False, # don't use masks (this messes up model_5 if set to True)\n",
    "                              name=\"char_embed\")"
   ]
  },
  {
   "cell_type": "markdown",
   "id": "aae9ebb8",
   "metadata": {},
   "source": [
    "## Create dataset"
   ]
  },
  {
   "cell_type": "code",
   "execution_count": 14,
   "id": "ded6341f",
   "metadata": {},
   "outputs": [
    {
     "data": {
      "text/plain": [
       "(<PrefetchDataset element_spec=((TensorSpec(shape=(None, 15), dtype=tf.float32, name=None), TensorSpec(shape=(None, 20), dtype=tf.float32, name=None), TensorSpec(shape=(None,), dtype=tf.string, name=None), TensorSpec(shape=(None,), dtype=tf.string, name=None)), TensorSpec(shape=(None, 5), dtype=tf.float64, name=None))>,\n",
       " <PrefetchDataset element_spec=((TensorSpec(shape=(None, 15), dtype=tf.float32, name=None), TensorSpec(shape=(None, 20), dtype=tf.float32, name=None), TensorSpec(shape=(None,), dtype=tf.string, name=None), TensorSpec(shape=(None,), dtype=tf.string, name=None)), TensorSpec(shape=(None, 5), dtype=tf.float64, name=None))>)"
      ]
     },
     "execution_count": 14,
     "metadata": {},
     "output_type": "execute_result"
    }
   ],
   "source": [
    "# Create one-hot-encoded tensors \n",
    "train_line_numbers_one_hot = tf.one_hot(train_df[\"line_number\"].to_numpy(),\n",
    "                                       depth = 15)\n",
    "val_line_numbers_one_hot = tf.one_hot(val_df[\"line_number\"].to_numpy(),\n",
    "                                     depth = 15)\n",
    "test_line_numbers_one_hot = tf.one_hot(test_df[\"line_number\"].to_numpy(),\n",
    "                                      depth = 15)\n",
    "\n",
    "train_total_lines_one_hot = tf.one_hot(train_df[\"total_lines\"].to_numpy(), depth=20)\n",
    "val_total_lines_one_hot = tf.one_hot(val_df[\"total_lines\"].to_numpy(), depth=20)\n",
    "test_total_lines_one_hot = tf.one_hot(test_df[\"total_lines\"].to_numpy(), depth=20)\n",
    "\n",
    "# Create training and validation datasets (all four kinds of inputs)\n",
    "train_pos_char_token_data = tf.data.Dataset.from_tensor_slices((train_line_numbers_one_hot, # line numbers\n",
    "                                                                train_total_lines_one_hot, # total lines\n",
    "                                                                train_sentences, # train tokens\n",
    "                                                                train_chars)) # train chars\n",
    "train_pos_char_token_labels = tf.data.Dataset.from_tensor_slices(train_labels_one_hot) # train labels\n",
    "train_pos_char_token_dataset = tf.data.Dataset.zip((train_pos_char_token_data, train_pos_char_token_labels)) # combine data and labels\n",
    "train_pos_char_token_dataset = train_pos_char_token_dataset.batch(32).prefetch(tf.data.AUTOTUNE) # turn into batches and prefetch appropriately\n",
    "\n",
    "# Validation dataset\n",
    "val_pos_char_token_data = tf.data.Dataset.from_tensor_slices((val_line_numbers_one_hot,\n",
    "                                                              val_total_lines_one_hot,\n",
    "                                                              val_sentences,\n",
    "                                                              val_chars))\n",
    "val_pos_char_token_labels = tf.data.Dataset.from_tensor_slices(val_labels_one_hot)\n",
    "val_pos_char_token_dataset = tf.data.Dataset.zip((val_pos_char_token_data, val_pos_char_token_labels))\n",
    "val_pos_char_token_dataset = val_pos_char_token_dataset.batch(32).prefetch(tf.data.AUTOTUNE) # turn into batches and prefetch appropriately\n",
    "\n",
    "# Check input shapes\n",
    "train_pos_char_token_dataset, val_pos_char_token_dataset"
   ]
  },
  {
   "cell_type": "markdown",
   "id": "909c0a1f",
   "metadata": {},
   "source": [
    "## Create model"
   ]
  },
  {
   "cell_type": "code",
   "execution_count": 21,
   "id": "572ba7ca",
   "metadata": {},
   "outputs": [],
   "source": [
    "# Step 1. Token inputs\n",
    "\n",
    "token_inputs = layers.Input(shape = [], dtype = \"string\",\n",
    "                           name = \"token_inputs\")\n",
    "token_embeddings = tf_hub_embedding_layer(token_inputs)\n",
    "token_outputs = layers.Dense(128, activation = \"relu\")(token_embeddings)\n",
    "token_model = tf.keras.Model(inputs = token_inputs,\n",
    "                            outputs = token_outputs)\n",
    "\n",
    "\n",
    "# Step 2. Char inputs\n",
    "char_inputs = layers.Input(shape = (1,), dtype = \"string\",\n",
    "                          name = \"char_inputs\")\n",
    "char_vectors = char_vectorizer(char_inputs)\n",
    "char_embeddings = char_embed(char_vectors)\n",
    "char_bi_lstm = layers.Bidirectional(layers.LSTM(units = 24))(char_embeddings)\n",
    "char_model = tf.keras.Model(inputs = char_inputs,\n",
    "                           outputs = char_bi_lstm)\n",
    "\n",
    "\n",
    "# Step 3. Line numbers inputs\n",
    "line_number_inputs = layers.Input(shape = (15,), dtype = tf.int32,\n",
    "                                 name = 'line_number_inputs')\n",
    "x = layers.Dense(32, activation = \"relu\")(line_number_inputs)\n",
    "line_number_model = tf.keras.Model(inputs = line_number_inputs,\n",
    "                                  outputs = x)\n",
    "\n",
    "\n",
    "# Step 4. Total lines inputs\n",
    "total_line_inputs = layers.Input(shape = (20,), dtype = tf.int32,\n",
    "                                name = \"total_lines_inputs\")\n",
    "y = layers.Dense(32, activation = \"relu\",\n",
    "                kernel_regularizer=tf.keras.regularizers.l2(0.01))(total_line_inputs)\n",
    "y = layers.Dense(24, activation = \"relu\",\n",
    "                kernel_regularizer=tf.keras.regularizers.l2(0.01))(y)\n",
    "total_line_model = tf.keras.Model(inputs = total_line_inputs,\n",
    "                                 outputs = y)\n",
    "\n",
    "\n",
    "# Step 5. Combine token and char embeddings into hybrid embedding\n",
    "combined_embeddings = layers.Concatenate(name = \"token_char_hybrid_embedding\")([token_model.output,\n",
    "                                                                               char_model.output])\n",
    "\n",
    "z = layers.Dense(82, activation = \"relu\",\n",
    "                kernel_regularizer=tf.keras.regularizers.l2(0.01))(combined_embeddings)\n",
    "z = layers.Dropout(0.5)(z)\n",
    "z = layers.Dense(32, activation = \"relu\",\n",
    "                kernel_regularizer=tf.keras.regularizers.l2(0.01))(z)\n",
    "z = layers.Dropout(0.5)(z)\n",
    "\n",
    "\n",
    "# Step 6. Combine positional embeddings with combined token and char embedding\n",
    "z = layers.Concatenate(name = \"token_char_positional_embedding\")([line_number_model.output,\n",
    "                                                                 total_line_model.output,\n",
    "                                                                 z])\n",
    "\n",
    "# Step 7. Create output layer\n",
    "output_layer = layers.Dense(5, activation = \"softmax\",\n",
    "                           name = \"output_layer\")(z)\n",
    "\n",
    "# Step 8. Put all together\n",
    "model_5 = tf.keras.Model(inputs = [line_number_model.input,\n",
    "                                  total_line_model.input,\n",
    "                                  token_model.input,\n",
    "                                  char_model.input],\n",
    "                        outputs = output_layer)"
   ]
  },
  {
   "cell_type": "code",
   "execution_count": 22,
   "id": "3a586a41",
   "metadata": {},
   "outputs": [],
   "source": [
    "# Compile the model\n",
    "model_5.compile(loss = tf.keras.losses.CategoricalCrossentropy(),\n",
    "               optimizer = tf.keras.optimizers.Adam(),\n",
    "               metrics = [\"accuracy\"])"
   ]
  },
  {
   "cell_type": "code",
   "execution_count": 23,
   "id": "d5768f8c",
   "metadata": {},
   "outputs": [
    {
     "data": {
      "image/png": "[encoded data removed]",
      "text/plain": [
       "<IPython.core.display.Image object>"
      ]
     },
     "execution_count": 23,
     "metadata": {},
     "output_type": "execute_result"
    }
   ],
   "source": [
    "from tensorflow.keras.utils import plot_model\n",
    "plot_model(model_5)"
   ]
  },
  {
   "cell_type": "code",
   "execution_count": 19,
   "id": "64ef0bec",
   "metadata": {},
   "outputs": [
    {
     "name": "stderr",
     "output_type": "stream",
     "text": [
      "WARNING:absl:Found untraced functions such as lstm_cell_1_layer_call_fn, lstm_cell_1_layer_call_and_return_conditional_losses, lstm_cell_2_layer_call_fn, lstm_cell_2_layer_call_and_return_conditional_losses while saving (showing 4 of 4). These functions will not be directly callable after loading.\n"
     ]
    },
    {
     "name": "stdout",
     "output_type": "stream",
     "text": [
      "INFO:tensorflow:Assets written to: model_5_saved_file\\assets\n"
     ]
    },
    {
     "name": "stderr",
     "output_type": "stream",
     "text": [
      "INFO:tensorflow:Assets written to: model_5_saved_file\\assets\n"
     ]
    }
   ],
   "source": [
    "model_5.save('model_5_saved_file')\n"
   ]
  }
 ],
 "metadata": {
  "kernelspec": {
   "display_name": "cuda env",
   "language": "python",
   "name": "tf"
  },
  "language_info": {
   "codemirror_mode": {
    "name": "ipython",
    "version": 3
   },
   "file_extension": ".py",
   "mimetype": "text/x-python",
   "name": "python",
   "nbconvert_exporter": "python",
   "pygments_lexer": "ipython3",
   "version": "3.8.17"
  }
 },
 "nbformat": 4,
 "nbformat_minor": 5
}
