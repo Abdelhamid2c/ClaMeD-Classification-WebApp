{
 "cells": [
  {
   "cell_type": "markdown",
   "id": "d0afff6d",
   "metadata": {},
   "source": [
    "# Introduction "
   ]
  },
  {
   "cell_type": "markdown",
   "id": "251a64b5",
   "metadata": {},
   "source": [
    "# Enhancing Literature Exploration through Sequential Sentence Classification\n",
    "\n",
    "When researchers delve into the vast expanse of previous literature, they often embark on a quest through abstracts. This quest serves the purpose of swiftly determining whether the papers align with their specific criteria of interest. The efficacy of this process is notably augmented when abstracts exhibit a structured format.\n",
    "\n",
    "Structured abstracts, where the text is organized into semantic headings like objective, method, result, and conclusion, facilitate a more streamlined comprehension. However, a substantial challenge surfaces when a noteworthy portion of published paper abstracts remains unstructured. The absence of a predefined structure makes it more arduous to swiftly access pertinent information.\n",
    "\n",
    "## The Significance of Sequential Sentence Classification\n",
    "\n",
    "Recognizing this challenge, the concept of classifying each sentence within an abstract to an appropriate heading has emerged as a pivotal solution. This systematic classification not only contributes significantly to expediting the retrieval of desired information but also serves as a cornerstone for minimizing the time invested in literature exploration.\n",
    "\n",
    "We term this process the **sequential sentence classification task**, differentiating it from general text or sentence classification. The crux lies in considering contextual relationships, providing a nuanced approach to understanding the narrative within the abstract.\n",
    "\n",
    "### Beyond Human Aid\n",
    "\n",
    "Apart from its immediate benefits for researchers, this task extends its utility to various realms:\n",
    "\n",
    "- **Automatic Text Summarization:** Streamlining the process of extracting key information from textual content.\n",
    "  \n",
    "- **Information Extraction:** Enhancing the extraction of valuable insights from diverse sources.\n",
    "  \n",
    "- **Information Retrieval:** Facilitating efficient retrieval of targeted information.\n",
    "\n",
    "In essence, the sequential sentence classification task not only aids human researchers but also lays the groundwork for enhancing automation processes in diverse text-related domains.\n"
   ]
  },
  {
   "cell_type": "markdown",
   "id": "e61408b0",
   "metadata": {},
   "source": [
    "## Notebook Objective\n",
    "\n",
    "* The purpose of this notebook is to systematically analyze **each component of the architecture in isolation**, assessing the individual results they yield. Subsequently, we will proceed to implement the complete architecture to gain insights into its overall performance and observe the collective impact of its constituent parts.\n"
   ]
  },
  {
   "cell_type": "markdown",
   "id": "0a56d40a",
   "metadata": {},
   "source": [
    "![Image](img/architecture.png)\n"
   ]
  },
  {
   "cell_type": "markdown",
   "id": "58b612e1",
   "metadata": {},
   "source": [
    "## Getting the data"
   ]
  },
  {
   "cell_type": "code",
   "execution_count": 1,
   "id": "73606204",
   "metadata": {},
   "outputs": [],
   "source": [
    "# Read the csv files : train, val, test\n",
    "import pandas as pd\n",
    "train_df = pd.read_csv('../Data/Processed/train.csv')\n",
    "val_df = pd.read_csv('../Data/Processed/val.csv')\n",
    "test_df = pd.read_csv('../Data/Processed/test.csv')\n"
   ]
  },
  {
   "cell_type": "code",
   "execution_count": 21,
   "id": "41a57edf",
   "metadata": {},
   "outputs": [
    {
     "data": {
      "text/html": [
       "<div>\n",
       "<style scoped>\n",
       "    .dataframe tbody tr th:only-of-type {\n",
       "        vertical-align: middle;\n",
       "    }\n",
       "\n",
       "    .dataframe tbody tr th {\n",
       "        vertical-align: top;\n",
       "    }\n",
       "\n",
       "    .dataframe thead th {\n",
       "        text-align: right;\n",
       "    }\n",
       "</style>\n",
       "<table border=\"1\" class=\"dataframe\">\n",
       "  <thead>\n",
       "    <tr style=\"text-align: right;\">\n",
       "      <th></th>\n",
       "      <th>target</th>\n",
       "      <th>text</th>\n",
       "      <th>line_number</th>\n",
       "      <th>total_lines</th>\n",
       "    </tr>\n",
       "  </thead>\n",
       "  <tbody>\n",
       "    <tr>\n",
       "      <th>0</th>\n",
       "      <td>OBJECTIVE</td>\n",
       "      <td>to investigate the efficacy of @ weeks of dail...</td>\n",
       "      <td>0</td>\n",
       "      <td>11</td>\n",
       "    </tr>\n",
       "    <tr>\n",
       "      <th>1</th>\n",
       "      <td>METHODS</td>\n",
       "      <td>a total of @ patients with primary knee oa wer...</td>\n",
       "      <td>1</td>\n",
       "      <td>11</td>\n",
       "    </tr>\n",
       "    <tr>\n",
       "      <th>2</th>\n",
       "      <td>METHODS</td>\n",
       "      <td>outcome measures included pain reduction and i...</td>\n",
       "      <td>2</td>\n",
       "      <td>11</td>\n",
       "    </tr>\n",
       "    <tr>\n",
       "      <th>3</th>\n",
       "      <td>METHODS</td>\n",
       "      <td>pain was assessed using the visual analog pain...</td>\n",
       "      <td>3</td>\n",
       "      <td>11</td>\n",
       "    </tr>\n",
       "    <tr>\n",
       "      <th>4</th>\n",
       "      <td>METHODS</td>\n",
       "      <td>secondary outcome measures included the wester...</td>\n",
       "      <td>4</td>\n",
       "      <td>11</td>\n",
       "    </tr>\n",
       "    <tr>\n",
       "      <th>...</th>\n",
       "      <td>...</td>\n",
       "      <td>...</td>\n",
       "      <td>...</td>\n",
       "      <td>...</td>\n",
       "    </tr>\n",
       "    <tr>\n",
       "      <th>180035</th>\n",
       "      <td>RESULTS</td>\n",
       "      <td>for the absolute change in percent atheroma vo...</td>\n",
       "      <td>7</td>\n",
       "      <td>11</td>\n",
       "    </tr>\n",
       "    <tr>\n",
       "      <th>180036</th>\n",
       "      <td>RESULTS</td>\n",
       "      <td>for pav , a significantly greater percentage o...</td>\n",
       "      <td>8</td>\n",
       "      <td>11</td>\n",
       "    </tr>\n",
       "    <tr>\n",
       "      <th>180037</th>\n",
       "      <td>RESULTS</td>\n",
       "      <td>both strategies had acceptable side effect pro...</td>\n",
       "      <td>9</td>\n",
       "      <td>11</td>\n",
       "    </tr>\n",
       "    <tr>\n",
       "      <th>180038</th>\n",
       "      <td>CONCLUSIONS</td>\n",
       "      <td>compared with standard statin monotherapy , th...</td>\n",
       "      <td>10</td>\n",
       "      <td>11</td>\n",
       "    </tr>\n",
       "    <tr>\n",
       "      <th>180039</th>\n",
       "      <td>CONCLUSIONS</td>\n",
       "      <td>( plaque regression with cholesterol absorptio...</td>\n",
       "      <td>11</td>\n",
       "      <td>11</td>\n",
       "    </tr>\n",
       "  </tbody>\n",
       "</table>\n",
       "<p>180040 rows × 4 columns</p>\n",
       "</div>"
      ],
      "text/plain": [
       "             target                                               text  \\\n",
       "0         OBJECTIVE  to investigate the efficacy of @ weeks of dail...   \n",
       "1           METHODS  a total of @ patients with primary knee oa wer...   \n",
       "2           METHODS  outcome measures included pain reduction and i...   \n",
       "3           METHODS  pain was assessed using the visual analog pain...   \n",
       "4           METHODS  secondary outcome measures included the wester...   \n",
       "...             ...                                                ...   \n",
       "180035      RESULTS  for the absolute change in percent atheroma vo...   \n",
       "180036      RESULTS  for pav , a significantly greater percentage o...   \n",
       "180037      RESULTS  both strategies had acceptable side effect pro...   \n",
       "180038  CONCLUSIONS  compared with standard statin monotherapy , th...   \n",
       "180039  CONCLUSIONS  ( plaque regression with cholesterol absorptio...   \n",
       "\n",
       "        line_number  total_lines  \n",
       "0                 0           11  \n",
       "1                 1           11  \n",
       "2                 2           11  \n",
       "3                 3           11  \n",
       "4                 4           11  \n",
       "...             ...          ...  \n",
       "180035            7           11  \n",
       "180036            8           11  \n",
       "180037            9           11  \n",
       "180038           10           11  \n",
       "180039           11           11  \n",
       "\n",
       "[180040 rows x 4 columns]"
      ]
     },
     "execution_count": 21,
     "metadata": {},
     "output_type": "execute_result"
    }
   ],
   "source": [
    "train_df"
   ]
  },
  {
   "cell_type": "code",
   "execution_count": 3,
   "id": "8e0d4cf0",
   "metadata": {},
   "outputs": [
    {
     "data": {
      "text/plain": [
       "(180040, 30212, 30135)"
      ]
     },
     "execution_count": 3,
     "metadata": {},
     "output_type": "execute_result"
    }
   ],
   "source": [
    "# Convert abstract text lines into lists \n",
    "train_sentences = train_df[\"text\"].tolist()\n",
    "val_sentences = val_df[\"text\"].tolist()\n",
    "test_sentences = test_df[\"text\"].tolist()\n",
    "len(train_sentences), len(val_sentences), len(test_sentences)"
   ]
  },
  {
   "cell_type": "markdown",
   "id": "7f65b8cc",
   "metadata": {},
   "source": [
    "## Preparing our data for deep sequence models"
   ]
  },
  {
   "cell_type": "code",
   "execution_count": 4,
   "id": "dbf06944",
   "metadata": {},
   "outputs": [],
   "source": [
    "import numpy as np\n",
    "import tensorflow as tf\n",
    "from tensorflow.keras import layers"
   ]
  },
  {
   "cell_type": "code",
   "execution_count": 5,
   "id": "f17d6d51",
   "metadata": {},
   "outputs": [
    {
     "data": {
      "text/plain": [
       "26.338269273494777"
      ]
     },
     "execution_count": 5,
     "metadata": {},
     "output_type": "execute_result"
    }
   ],
   "source": [
    "# How long is each sentence on average?\n",
    "sent_lens = [len(sentence.split()) for sentence in train_sentences]\n",
    "avg_sent_len = np.mean(sent_lens)\n",
    "avg_sent_len # return average sentence length (in tokens)"
   ]
  },
  {
   "cell_type": "code",
   "execution_count": 6,
   "id": "352f41c4",
   "metadata": {},
   "outputs": [
    {
     "data": {
      "text/plain": [
       "55"
      ]
     },
     "execution_count": 6,
     "metadata": {},
     "output_type": "execute_result"
    }
   ],
   "source": [
    "# How long of a sentence covers 95% of the lengths?\n",
    "output_seq_len = int(np.percentile(sent_lens, 95))\n",
    "output_seq_len"
   ]
  },
  {
   "cell_type": "markdown",
   "id": "18b3b484",
   "metadata": {},
   "source": [
    "*  95% of the sentences in our training set have a length of 55 tokens or less."
   ]
  },
  {
   "cell_type": "code",
   "execution_count": 7,
   "id": "5e0c7fd4",
   "metadata": {},
   "outputs": [
    {
     "name": "stderr",
     "output_type": "stream",
     "text": [
      "E:\\anaconda3\\envs\\tf\\lib\\site-packages\\sklearn\\preprocessing\\_encoders.py:972: FutureWarning: `sparse` was renamed to `sparse_output` in version 1.2 and will be removed in 1.4. `sparse_output` is ignored unless you leave `sparse` to its default value.\n",
      "  warnings.warn(\n"
     ]
    },
    {
     "data": {
      "text/plain": [
       "array([[0., 0., 0., 1., 0.],\n",
       "       [0., 0., 1., 0., 0.],\n",
       "       [0., 0., 1., 0., 0.],\n",
       "       ...,\n",
       "       [0., 0., 0., 0., 1.],\n",
       "       [0., 1., 0., 0., 0.],\n",
       "       [0., 1., 0., 0., 0.]])"
      ]
     },
     "execution_count": 7,
     "metadata": {},
     "output_type": "execute_result"
    }
   ],
   "source": [
    "# One hot encode labels\n",
    "from sklearn.preprocessing import OneHotEncoder\n",
    "one_hot_encoder = OneHotEncoder(sparse=False)\n",
    "train_labels_one_hot = one_hot_encoder.fit_transform(train_df[\"target\"].to_numpy().reshape(-1, 1))\n",
    "val_labels_one_hot = one_hot_encoder.transform(val_df[\"target\"].to_numpy().reshape(-1, 1))\n",
    "test_labels_one_hot = one_hot_encoder.transform(test_df[\"target\"].to_numpy().reshape(-1, 1))\n",
    "\n",
    "# Check what training labels look like\n",
    "train_labels_one_hot"
   ]
  },
  {
   "cell_type": "code",
   "execution_count": 8,
   "id": "ff2fcc28",
   "metadata": {},
   "outputs": [
    {
     "data": {
      "text/plain": [
       "array([3, 2, 2, ..., 4, 1, 1])"
      ]
     },
     "execution_count": 8,
     "metadata": {},
     "output_type": "execute_result"
    }
   ],
   "source": [
    "# Extract labels (\"target\" columns) and encode them into integers \n",
    "from sklearn.preprocessing import LabelEncoder\n",
    "label_encoder = LabelEncoder()\n",
    "train_labels_encoded = label_encoder.fit_transform(train_df[\"target\"].to_numpy())\n",
    "val_labels_encoded = label_encoder.transform(val_df[\"target\"].to_numpy())\n",
    "test_labels_encoded = label_encoder.transform(test_df[\"target\"].to_numpy())\n",
    "\n",
    "# Check what training labels look like\n",
    "train_labels_encoded"
   ]
  },
  {
   "cell_type": "markdown",
   "id": "f06e55e6",
   "metadata": {},
   "source": [
    "### Create text vectorizer"
   ]
  },
  {
   "cell_type": "code",
   "execution_count": 10,
   "id": "8260023d",
   "metadata": {},
   "outputs": [],
   "source": [
    "# Number of words in our vocabulary\n",
    "max_tokens = 68000"
   ]
  },
  {
   "cell_type": "code",
   "execution_count": 11,
   "id": "d5f8dc99",
   "metadata": {},
   "outputs": [],
   "source": [
    "from tensorflow.keras.layers import TextVectorization\n",
    "\n",
    "text_vectorizer = TextVectorization(max_tokens = max_tokens, # Number of words in vocabulary\n",
    "                                   output_sequence_length = 55) # desired output length of vectorized sequences\n"
   ]
  },
  {
   "cell_type": "code",
   "execution_count": 12,
   "id": "938415e3",
   "metadata": {},
   "outputs": [],
   "source": [
    "# Adapt text vectorizer to training sentences\n",
    "text_vectorizer.adapt(train_sentences)"
   ]
  },
  {
   "cell_type": "code",
   "execution_count": 13,
   "id": "e7c34b9f",
   "metadata": {},
   "outputs": [
    {
     "name": "stdout",
     "output_type": "stream",
     "text": [
      "Text:\n",
      "recently , a smartphone-assisted guide with high precision has been described .\n",
      "\n",
      "Length of text: 12\n",
      "\n",
      "Vectorized text:\n",
      "[[ 1612     8 45318  2212     7   181  5330   139   167  1794     0     0\n",
      "      0     0     0     0     0     0     0     0     0     0     0     0\n",
      "      0     0     0     0     0     0     0     0     0     0     0     0\n",
      "      0     0     0     0     0     0     0     0     0     0     0     0\n",
      "      0     0     0     0     0     0     0]]\n"
     ]
    }
   ],
   "source": [
    "# Test out text vectorizer\n",
    "import random\n",
    "target_sentence = random.choice(train_sentences)\n",
    "print(f\"Text:\\n{target_sentence}\")\n",
    "print(f\"\\nLength of text: {len(target_sentence.split())}\")\n",
    "print(f\"\\nVectorized text:\\n{text_vectorizer([target_sentence])}\")"
   ]
  },
  {
   "cell_type": "code",
   "execution_count": 14,
   "id": "582d5613",
   "metadata": {},
   "outputs": [
    {
     "name": "stdout",
     "output_type": "stream",
     "text": [
      "Number of words in vocabulary: 64841\n",
      "Most common words in the vocabulary: ['', '[UNK]', 'the', 'and', 'of']\n",
      "Least common words in the vocabulary: ['aainduced', 'aaigroup', 'aachener', 'aachen', 'aaacp']\n"
     ]
    }
   ],
   "source": [
    "# How many words in our training vocabulary?\n",
    "rct_20k_text_vocab = text_vectorizer.get_vocabulary()\n",
    "print(f\"Number of words in vocabulary: {len(rct_20k_text_vocab)}\"), \n",
    "print(f\"Most common words in the vocabulary: {rct_20k_text_vocab[:5]}\")\n",
    "print(f\"Least common words in the vocabulary: {rct_20k_text_vocab[-5:]}\")"
   ]
  },
  {
   "cell_type": "code",
   "execution_count": 15,
   "id": "ef4cee5a",
   "metadata": {},
   "outputs": [
    {
     "data": {
      "text/plain": [
       "{'name': 'text_vectorization',\n",
       " 'trainable': True,\n",
       " 'batch_input_shape': (None,),\n",
       " 'dtype': 'string',\n",
       " 'max_tokens': 68000,\n",
       " 'standardize': 'lower_and_strip_punctuation',\n",
       " 'split': 'whitespace',\n",
       " 'ngrams': None,\n",
       " 'output_mode': 'int',\n",
       " 'output_sequence_length': 55,\n",
       " 'pad_to_max_tokens': False,\n",
       " 'sparse': False,\n",
       " 'ragged': False,\n",
       " 'vocabulary': None,\n",
       " 'idf_weights': None}"
      ]
     },
     "execution_count": 15,
     "metadata": {},
     "output_type": "execute_result"
    }
   ],
   "source": [
    "# Get the config of our text vectorizer\n",
    "text_vectorizer.get_config()"
   ]
  },
  {
   "cell_type": "markdown",
   "id": "4c93befd",
   "metadata": {},
   "source": [
    "### Create custom text embedding"
   ]
  },
  {
   "cell_type": "code",
   "execution_count": 16,
   "id": "ee6774ed",
   "metadata": {},
   "outputs": [],
   "source": [
    "# Create token embedding layer\n",
    "token_embed = layers.Embedding(input_dim = len(rct_20k_text_vocab),\n",
    "                              output_dim = 128,\n",
    "                              mask_zero = True,\n",
    "                              name = \"token_embdedding\")"
   ]
  },
  {
   "cell_type": "markdown",
   "id": "2f7ba406",
   "metadata": {},
   "source": [
    "## Create datasets"
   ]
  },
  {
   "cell_type": "markdown",
   "id": "81dcf11a",
   "metadata": {},
   "source": [
    "## Prefetching Data in Machine Learning\n",
    "\n",
    "In the realm of machine learning, prefetching data is a strategy employed to optimize the training pipeline. Prefetching involves loading and preparing data batches ahead of time, reducing the idle time during model training.\n",
    "\n",
    "### Advantages of Prefetching:\n",
    "\n",
    "1. **Reduced Training Time:** Prefetching allows the training process to overlap with data loading, minimizing the waiting time for the model to receive the next batch.\n",
    "\n",
    "2. **Improved Resource Utilization:** By fetching data asynchronously, computational resources are utilized more efficiently. This is particularly beneficial when dealing with large datasets or when working with hardware accelerators.\n",
    "\n",
    "3. **Enhanced Training Stability:** Continuous data streaming ensures a steady flow of input to the model, contributing to more stable and consistent training.\n",
    "\n",
    "### Implementation:\n",
    "\n",
    "In practice, frameworks like TensorFlow and PyTorch provide tools to implement prefetching. These tools enable the overlap of data loading with the model's computation, leading to a smoother training process.\n",
    "\n",
    "### Example (TensorFlow):\n",
    "\n",
    "```python\n",
    "# Create a Dataset and apply prefetching\n",
    "dataset = tf.data.Dataset.from_tensor_slices((features, labels))\n",
    "dataset = dataset.batch(batch_size)\n",
    "dataset = dataset.prefetch(buffer_size=tf.data.experimental.AUTOTUNE)\n",
    "\n",
    "# Model training with the prefetched dataset\n",
    "model.fit(dataset, epochs=num_epochs)\n"
   ]
  },
  {
   "cell_type": "markdown",
   "id": "04bc98a7",
   "metadata": {},
   "source": [
    "![Image](img/prefetch.png)\n"
   ]
  },
  {
   "cell_type": "code",
   "execution_count": 17,
   "id": "655f64e5",
   "metadata": {},
   "outputs": [],
   "source": [
    "# Turn our data into Tensorflow Datasets\n",
    "train_dataset = tf.data.Dataset.from_tensor_slices((train_sentences, train_labels_one_hot))\n",
    "valid_dataset = tf.data.Dataset.from_tensor_slices((val_sentences, val_labels_one_hot))\n",
    "test_dataset = tf.data.Dataset.from_tensor_slices((test_sentences, test_labels_one_hot))"
   ]
  },
  {
   "cell_type": "code",
   "execution_count": 18,
   "id": "722dd653",
   "metadata": {},
   "outputs": [],
   "source": [
    "# Turn the Tensorslice into prefetch batches\n",
    "train_dataset = train_dataset.batch(32).prefetch(tf.data.AUTOTUNE)\n",
    "valid_dataset = valid_dataset.batch(32).prefetch(tf.data.AUTOTUNE)\n",
    "test_dataset = test_dataset.batch(32).prefetch(tf.data.AUTOTUNE)"
   ]
  },
  {
   "cell_type": "code",
   "execution_count": 19,
   "id": "83e5ae32",
   "metadata": {},
   "outputs": [
    {
     "data": {
      "text/plain": [
       "<PrefetchDataset element_spec=(TensorSpec(shape=(None,), dtype=tf.string, name=None), TensorSpec(shape=(None, 5), dtype=tf.float64, name=None))>"
      ]
     },
     "execution_count": 19,
     "metadata": {},
     "output_type": "execute_result"
    }
   ],
   "source": [
    "train_dataset"
   ]
  },
  {
   "cell_type": "code",
   "execution_count": 20,
   "id": "27d9f26e",
   "metadata": {},
   "outputs": [
    {
     "data": {
      "text/plain": [
       "<bound method DatasetV2.batch of <PrefetchDataset element_spec=(TensorSpec(shape=(None,), dtype=tf.string, name=None), TensorSpec(shape=(None, 5), dtype=tf.float64, name=None))>>"
      ]
     },
     "execution_count": 20,
     "metadata": {},
     "output_type": "execute_result"
    }
   ],
   "source": [
    "train_dataset.batch"
   ]
  },
  {
   "cell_type": "code",
   "execution_count": 23,
   "id": "c6f51bbf",
   "metadata": {},
   "outputs": [
    {
     "data": {
      "text/plain": [
       "5626.25"
      ]
     },
     "execution_count": 23,
     "metadata": {},
     "output_type": "execute_result"
    }
   ],
   "source": [
    "180040/32"
   ]
  },
  {
   "cell_type": "markdown",
   "id": "eae72bc5",
   "metadata": {},
   "source": [
    "# Model 1: Baseline Model"
   ]
  },
  {
   "cell_type": "markdown",
   "id": "90f89a8b",
   "metadata": {},
   "source": [
    "```\n",
    "Input (text) -> Tokenize -> Embedding -> LSTM -> Output (label probability)\n",
    "```"
   ]
  },
  {
   "cell_type": "code",
   "execution_count": 30,
   "id": "f1992f18",
   "metadata": {},
   "outputs": [
    {
     "name": "stdout",
     "output_type": "stream",
     "text": [
      "Epoch 1/5\n",
      "5627/5627 [==============================] - 171s 29ms/step - loss: 0.5786 - accuracy: 0.7842 - val_loss: 0.4965 - val_accuracy: 0.8193\n",
      "Epoch 2/5\n",
      "5627/5627 [==============================] - 159s 28ms/step - loss: 0.4055 - accuracy: 0.8532 - val_loss: 0.5173 - val_accuracy: 0.8173\n",
      "Epoch 3/5\n",
      "5627/5627 [==============================] - 159s 28ms/step - loss: 0.3042 - accuracy: 0.8933 - val_loss: 0.5635 - val_accuracy: 0.8141\n",
      "Epoch 4/5\n",
      "5627/5627 [==============================] - 159s 28ms/step - loss: 0.2253 - accuracy: 0.9230 - val_loss: 0.6409 - val_accuracy: 0.8084\n",
      "Epoch 5/5\n",
      "5627/5627 [==============================] - 160s 28ms/step - loss: 0.1651 - accuracy: 0.9450 - val_loss: 0.7618 - val_accuracy: 0.7978\n"
     ]
    }
   ],
   "source": [
    "# Build the model\n",
    "inputs = layers.Input(shape = (1,), dtype = tf.string)\n",
    "\n",
    "text_vectors = text_vectorizer(inputs)\n",
    "token_embeddings = token_embed(text_vectors)\n",
    "x = layers.LSTM(units = 64)(token_embeddings)\n",
    "\n",
    "outputs = layers.Dense(5, activation = \"softmax\")(x)\n",
    "\n",
    "model_1 = tf.keras.Model(inputs, outputs)\n",
    "\n",
    "# Compile the model\n",
    "model_1.compile(loss = \"categorical_crossentropy\",\n",
    "               optimizer = tf.keras.optimizers.Adam(),\n",
    "               metrics = [\"accuracy\"])\n",
    "\n",
    "# Fit the model \n",
    "model_1_history = model_1.fit(train_dataset,\n",
    "                             epochs = 5,\n",
    "                             validation_data = valid_dataset)"
   ]
  },
  {
   "cell_type": "code",
   "execution_count": 46,
   "id": "fe496671",
   "metadata": {
    "scrolled": true
   },
   "outputs": [
    {
     "data": {
      "text/plain": [
       "<Axes: >"
      ]
     },
     "execution_count": 46,
     "metadata": {},
     "output_type": "execute_result"
    },
    {
     "data": {
      "image/png": "[encoded data removed]",
      "text/plain": [
       "<Figure size 640x480 with 1 Axes>"
      ]
     },
     "metadata": {},
     "output_type": "display_data"
    }
   ],
   "source": [
    "pd.DataFrame(model_1_history.history).plot()"
   ]
  },
  {
   "cell_type": "markdown",
   "id": "1c1dfbb6",
   "metadata": {},
   "source": [
    "# Model 2: Feature extraction with pretrained token embeddings"
   ]
  },
  {
   "cell_type": "markdown",
   "id": "4c623bb4",
   "metadata": {},
   "source": [
    "```\n",
    "Inputs (string) -> Pretrained embeddings from TensorFlow Hub (Universal Sentence Encoder) -> LSTM -> Output (prediction probabilities)\n",
    "```"
   ]
  },
  {
   "cell_type": "code",
   "execution_count": 72,
   "id": "006d68a8",
   "metadata": {},
   "outputs": [],
   "source": [
    "# Download pretrained TensorFlow Hub USE\n",
    "import tensorflow_hub as hub\n",
    "tf_hub_embedding_layer = hub.KerasLayer(\"https://tfhub.dev/google/universal-sentence-encoder/4\",\n",
    "                                        trainable=False,\n",
    "                                        name=\"universal_sentence_encoder\")"
   ]
  },
  {
   "cell_type": "code",
   "execution_count": 73,
   "id": "e4cb762d",
   "metadata": {},
   "outputs": [
    {
     "name": "stdout",
     "output_type": "stream",
     "text": [
      "Random training sentence:\n",
      "hr of t and r groups was increased immediately after re .\n",
      "\n",
      "Sentence after embedding:\n",
      "[ 0.00405522 -0.00013917  0.01433172  0.03807269 -0.06583429 -0.02935922\n",
      " -0.01105447 -0.06430527 -0.00820921  0.01838185  0.06163925  0.0032881\n",
      "  0.02210326 -0.03467866  0.01379515  0.06180348 -0.01606528 -0.00657646\n",
      "  0.02102998  0.07210676 -0.0594707   0.0711191  -0.07828455 -0.01020635\n",
      " -0.07718559  0.08391598 -0.06787936  0.01501799 -0.01528589 -0.05786846] (truncated output)...\n",
      "\n",
      "Length of sentence embedding:\n",
      "512\n"
     ]
    }
   ],
   "source": [
    "# Test out the embedding on a random sentence\n",
    "random_training_sentence = random.choice(train_sentences)\n",
    "print(f\"Random training sentence:\\n{random_training_sentence}\\n\")\n",
    "use_embedded_sentence = tf_hub_embedding_layer([random_training_sentence])\n",
    "print(f\"Sentence after embedding:\\n{use_embedded_sentence[0][:30]} (truncated output)...\\n\")\n",
    "print(f\"Length of sentence embedding:\\n{len(use_embedded_sentence[0])}\")"
   ]
  },
  {
   "cell_type": "markdown",
   "id": "ff6b2e5d",
   "metadata": {},
   "source": [
    "### Building and fitting an NLP feature extraction model from TensorFlow Hub"
   ]
  },
  {
   "cell_type": "code",
   "execution_count": 77,
   "id": "57bd1b2e",
   "metadata": {},
   "outputs": [
    {
     "name": "stdout",
     "output_type": "stream",
     "text": [
      "(None, 512)\n",
      "Epoch 1/5\n",
      "5627/5627 [==============================] - 159s 28ms/step - loss: 0.7633 - accuracy: 0.7066 - val_loss: 0.6855 - val_accuracy: 0.7387\n",
      "Epoch 2/5\n",
      "5627/5627 [==============================] - 155s 28ms/step - loss: 0.6654 - accuracy: 0.7466 - val_loss: 0.6449 - val_accuracy: 0.7542\n",
      "Epoch 3/5\n",
      "5627/5627 [==============================] - 155s 28ms/step - loss: 0.6325 - accuracy: 0.7595 - val_loss: 0.6236 - val_accuracy: 0.7627\n",
      "Epoch 4/5\n",
      "5627/5627 [==============================] - 154s 27ms/step - loss: 0.6100 - accuracy: 0.7680 - val_loss: 0.6092 - val_accuracy: 0.7678\n",
      "Epoch 5/5\n",
      "5627/5627 [==============================] - 155s 27ms/step - loss: 0.5921 - accuracy: 0.7752 - val_loss: 0.5991 - val_accuracy: 0.7722\n"
     ]
    }
   ],
   "source": [
    "# Define feature extractor model using TF Hub layer\n",
    "inputs = layers.Input(shape=[], dtype=tf.string)\n",
    "pretrained_embedding = tf_hub_embedding_layer(inputs)# tokenize text and create embedding\n",
    "print(pretrained_embedding.shape)\n",
    "# Reshape the embedding to add a temporal dimension\n",
    "reshaped_embedding = layers.Reshape((1, -1))(pretrained_embedding)\n",
    "x = layers.LSTM(units = 64)(reshaped_embedding) \n",
    "outputs = layers.Dense(5, activation=\"softmax\")(x) # create the output layer\n",
    "model_2 = tf.keras.Model(inputs=inputs,\n",
    "                        outputs=outputs)\n",
    "\n",
    "# Compile the model\n",
    "model_2.compile(loss=\"categorical_crossentropy\",\n",
    "                optimizer=tf.keras.optimizers.Adam(),\n",
    "                metrics=[\"accuracy\"])\n",
    "\n",
    "# Fit the model\n",
    "model_2_history = model_2.fit(train_dataset,\n",
    "            epochs = 5,\n",
    "            validation_data = valid_dataset)"
   ]
  },
  {
   "cell_type": "code",
   "execution_count": 78,
   "id": "c555e755",
   "metadata": {},
   "outputs": [
    {
     "data": {
      "text/plain": [
       "<Axes: >"
      ]
     },
     "execution_count": 78,
     "metadata": {},
     "output_type": "execute_result"
    },
    {
     "data": {
      "image/png": "[encoded data removed]",
      "text/plain": [
       "<Figure size 640x480 with 1 Axes>"
      ]
     },
     "metadata": {},
     "output_type": "display_data"
    }
   ],
   "source": [
    "pd.DataFrame(model_2_history.history).plot()"
   ]
  },
  {
   "cell_type": "code",
   "execution_count": 79,
   "id": "2837a509",
   "metadata": {},
   "outputs": [
    {
     "name": "stdout",
     "output_type": "stream",
     "text": [
      "945/945 [==============================] - 18s 19ms/step - loss: 0.5991 - accuracy: 0.7722\n"
     ]
    },
    {
     "data": {
      "text/plain": [
       "[0.5991313457489014, 0.7721766233444214]"
      ]
     },
     "execution_count": 79,
     "metadata": {},
     "output_type": "execute_result"
    }
   ],
   "source": [
    "# Evaluate on whole validation dataset\n",
    "model_2.evaluate(valid_dataset)"
   ]
  },
  {
   "cell_type": "code",
   "execution_count": 80,
   "id": "c7f84cc1",
   "metadata": {},
   "outputs": [
    {
     "name": "stdout",
     "output_type": "stream",
     "text": [
      "945/945 [==============================] - 18s 19ms/step\n"
     ]
    },
    {
     "data": {
      "text/plain": [
       "array([[5.34511030e-01, 3.74371886e-01, 1.34044298e-04, 8.86345059e-02,\n",
       "        2.34851451e-03],\n",
       "       [3.01237792e-01, 6.19607508e-01, 1.43738277e-03, 7.62611479e-02,\n",
       "        1.45618315e-03],\n",
       "       [5.72160006e-01, 1.49184670e-02, 2.40302179e-02, 3.81444722e-01,\n",
       "        7.44661596e-03],\n",
       "       ...,\n",
       "       [3.96563933e-04, 2.60474859e-04, 1.39925452e-02, 1.03724116e-04,\n",
       "        9.85246658e-01],\n",
       "       [1.62288789e-02, 1.37138650e-01, 1.02141462e-01, 3.16306204e-03,\n",
       "        7.41327941e-01],\n",
       "       [1.07026435e-02, 9.84892130e-01, 3.91100952e-03, 1.02935053e-04,\n",
       "        3.91358219e-04]], dtype=float32)"
      ]
     },
     "execution_count": 80,
     "metadata": {},
     "output_type": "execute_result"
    }
   ],
   "source": [
    "# Make predictions with feature extraction model\n",
    "model_2_pred_probs = model_2.predict(valid_dataset)\n",
    "model_2_pred_probs"
   ]
  },
  {
   "cell_type": "code",
   "execution_count": 81,
   "id": "7a975082",
   "metadata": {},
   "outputs": [
    {
     "data": {
      "text/plain": [
       "<tf.Tensor: shape=(30212,), dtype=int64, numpy=array([0, 1, 0, ..., 4, 4, 1], dtype=int64)>"
      ]
     },
     "execution_count": 81,
     "metadata": {},
     "output_type": "execute_result"
    }
   ],
   "source": [
    "# Convert the predictions with feature extraction model to classes\n",
    "model_2_preds = tf.argmax(model_2_pred_probs, axis=1)\n",
    "model_2_preds"
   ]
  },
  {
   "cell_type": "code",
   "execution_count": 82,
   "id": "6e31b5b1",
   "metadata": {},
   "outputs": [
    {
     "data": {
      "text/plain": [
       "{'accuracy': 77.21766185621607,\n",
       " 'precision': 0.7707093653825717,\n",
       " 'recall': 0.7721766185621607,\n",
       " 'f1': 0.7681057564282514}"
      ]
     },
     "execution_count": 82,
     "metadata": {},
     "output_type": "execute_result"
    }
   ],
   "source": [
    "# Calculate results from TF Hub pretrained embeddings results on validation set\n",
    "model_2_results = calculate_results(y_true=val_labels_encoded,\n",
    "                                    y_pred=model_2_preds)\n",
    "model_2_results"
   ]
  },
  {
   "cell_type": "markdown",
   "id": "b2241f22",
   "metadata": {},
   "source": [
    "# Model 3 : Character embeddings"
   ]
  },
  {
   "cell_type": "code",
   "execution_count": 84,
   "id": "24c1bb05",
   "metadata": {},
   "outputs": [
    {
     "data": {
      "text/plain": [
       "'h r   o f   t   a n d   r   g r o u p s   w a s   i n c r e a s e d   i m m e d i a t e l y   a f t e r   r e   .'"
      ]
     },
     "execution_count": 84,
     "metadata": {},
     "output_type": "execute_result"
    }
   ],
   "source": [
    "# Make function to split sentences into characters\n",
    "def split_chars(text):\n",
    "  return \" \".join(list(text))\n",
    "\n",
    "# Test splitting non-character-level sequence into characters\n",
    "split_chars(random_training_sentence)"
   ]
  },
  {
   "cell_type": "code",
   "execution_count": 85,
   "id": "efa255d4",
   "metadata": {},
   "outputs": [
    {
     "name": "stdout",
     "output_type": "stream",
     "text": [
      "t o   i n v e s t i g a t e   t h e   e f f i c a c y   o f   @   w e e k s   o f   d a i l y   l o w - d o s e   o r a l   p r e d n i s o l o n e   i n   i m p r o v i n g   p a i n   ,   m o b i l i t y   ,   a n d   s y s t e m i c   l o w - g r a d e   i n f l a m m a t i o n   i n   t h e   s h o r t   t e r m   a n d   w h e t h e r   t h e   e f f e c t   w o u l d   b e   s u s t a i n e d   a t   @   w e e k s   i n   o l d e r   a d u l t s   w i t h   m o d e r a t e   t o   s e v e r e   k n e e   o s t e o a r t h r i t i s   (   o a   )   .\n"
     ]
    }
   ],
   "source": [
    "# Split sequence-level data splits into character-level data splits\n",
    "train_chars = [split_chars(sentence) for sentence in train_sentences]\n",
    "val_chars = [split_chars(sentence) for sentence in val_sentences]\n",
    "test_chars = [split_chars(sentence) for sentence in test_sentences]\n",
    "print(train_chars[0])"
   ]
  },
  {
   "cell_type": "markdown",
   "id": "fcc8d3a0",
   "metadata": {},
   "source": [
    "* Average character length"
   ]
  },
  {
   "cell_type": "code",
   "execution_count": 86,
   "id": "74aad44d",
   "metadata": {},
   "outputs": [
    {
     "data": {
      "text/plain": [
       "149.3662574983337"
      ]
     },
     "execution_count": 86,
     "metadata": {},
     "output_type": "execute_result"
    }
   ],
   "source": [
    "char_lens = [len(sentence) for sentence in train_sentences]\n",
    "mean_char_len = np.mean(char_lens)\n",
    "mean_char_len"
   ]
  },
  {
   "cell_type": "markdown",
   "id": "dc7122a1",
   "metadata": {},
   "source": [
    "* Character length covers 95% of sequences\n"
   ]
  },
  {
   "cell_type": "code",
   "execution_count": 87,
   "id": "2ba63f58",
   "metadata": {},
   "outputs": [
    {
     "data": {
      "text/plain": [
       "290"
      ]
     },
     "execution_count": 87,
     "metadata": {},
     "output_type": "execute_result"
    }
   ],
   "source": [
    "output_seq_char_len = int(np.percentile(char_lens, 95))\n",
    "output_seq_char_len"
   ]
  },
  {
   "cell_type": "markdown",
   "id": "88f86012",
   "metadata": {},
   "source": [
    "* Get all keyboard characters for char-level embedding"
   ]
  },
  {
   "cell_type": "code",
   "execution_count": 88,
   "id": "cab726d0",
   "metadata": {},
   "outputs": [
    {
     "data": {
      "text/plain": [
       "'abcdefghijklmnopqrstuvwxyz0123456789!\"#$%&\\'()*+,-./:;<=>?@[\\\\]^_`{|}~'"
      ]
     },
     "execution_count": 88,
     "metadata": {},
     "output_type": "execute_result"
    }
   ],
   "source": [
    "import string\n",
    "alphabet = string.ascii_lowercase + string.digits + string.punctuation\n",
    "alphabet"
   ]
  },
  {
   "cell_type": "code",
   "execution_count": 89,
   "id": "2fa41019",
   "metadata": {},
   "outputs": [],
   "source": [
    "# Create char-level token vectorizer instance\n",
    "\n",
    "# num characters in alphabet + space + OOV (out of vocabulary or unknown)\n",
    "NUM_CHAR_TOKENS = len(alphabet) + 2 \n",
    "char_vectorizer = TextVectorization(max_tokens = NUM_CHAR_TOKENS,\n",
    "                                   output_sequence_length = output_seq_char_len,\n",
    "                                   standardize = \"lower_and_strip_punctuation\",\n",
    "                                   name = \"char_vectorizer\") \n",
    "\n",
    "# Adapt character vectorizer to training characters\n",
    "char_vectorizer.adapt(train_chars)"
   ]
  },
  {
   "cell_type": "code",
   "execution_count": 90,
   "id": "099fd333",
   "metadata": {},
   "outputs": [
    {
     "name": "stdout",
     "output_type": "stream",
     "text": [
      "Number of different characters in character vocab: 28\n",
      "5 most common characters: ['', '[UNK]', 'e', 't', 'i']\n",
      "5 least common characters: ['k', 'x', 'z', 'q', 'j']\n"
     ]
    }
   ],
   "source": [
    "# Check character vocabulary characteristics\n",
    "char_vocab = char_vectorizer.get_vocabulary()\n",
    "print(f\"Number of different characters in character vocab: {len(char_vocab)}\")\n",
    "print(f\"5 most common characters: {char_vocab[:5]}\")\n",
    "print(f\"5 least common characters: {char_vocab[-5:]}\")"
   ]
  },
  {
   "cell_type": "code",
   "execution_count": 91,
   "id": "7ee4f24a",
   "metadata": {},
   "outputs": [
    {
     "name": "stdout",
     "output_type": "stream",
     "text": [
      "Charified text:\n",
      "g r o u p s   w e r e   c o m p a r a b l e   w i t h   r e s p e c t   t o   s e x   ,   a g e   ,   r i s k   f a c t o r   a n d   e t i o l o g y   o f   t h e   s t r o k e   .\n",
      "\n",
      "Length of chars: 74\n",
      "\n",
      "Vectorized chars:\n",
      "[[18  8  7 16 14  9 20  2  8  2 11  7 15 14  5  8  5 22 12  2 20  4  3 13\n",
      "   8  2  9 14  2 11  3  3  7  9  2 24  5 18  2  8  4  9 23 17  5 11  3  7\n",
      "   8  5  6 10  2  3  4  7 12  7 18 19  7 17  3 13  2  9  3  8  7 23  2  0\n",
      "   0  0  0  0  0  0  0  0  0  0  0  0  0  0  0  0  0  0  0  0  0  0  0  0\n",
      "   0  0  0  0  0  0  0  0  0  0  0  0  0  0  0  0  0  0  0  0  0  0  0  0\n",
      "   0  0  0  0  0  0  0  0  0  0  0  0  0  0  0  0  0  0  0  0  0  0  0  0\n",
      "   0  0  0  0  0  0  0  0  0  0  0  0  0  0  0  0  0  0  0  0  0  0  0  0\n",
      "   0  0  0  0  0  0  0  0  0  0  0  0  0  0  0  0  0  0  0  0  0  0  0  0\n",
      "   0  0  0  0  0  0  0  0  0  0  0  0  0  0  0  0  0  0  0  0  0  0  0  0\n",
      "   0  0  0  0  0  0  0  0  0  0  0  0  0  0  0  0  0  0  0  0  0  0  0  0\n",
      "   0  0  0  0  0  0  0  0  0  0  0  0  0  0  0  0  0  0  0  0  0  0  0  0\n",
      "   0  0  0  0  0  0  0  0  0  0  0  0  0  0  0  0  0  0  0  0  0  0  0  0\n",
      "   0  0]]\n",
      "\n",
      "Length of vectorized chars: 290\n"
     ]
    }
   ],
   "source": [
    "# Test out character vectorizer\n",
    "random_train_chars = random.choice(train_chars)\n",
    "print(f\"Charified text:\\n{random_train_chars}\")\n",
    "print(f\"\\nLength of chars: {len(random_train_chars.split())}\")\n",
    "vectorized_chars = char_vectorizer([random_train_chars])\n",
    "print(f\"\\nVectorized chars:\\n{vectorized_chars}\")\n",
    "print(f\"\\nLength of vectorized chars: {len(vectorized_chars[0])}\")"
   ]
  },
  {
   "cell_type": "markdown",
   "id": "fad756e9",
   "metadata": {},
   "source": [
    "### Create a character-level embedding"
   ]
  },
  {
   "cell_type": "code",
   "execution_count": 93,
   "id": "5a09e55b",
   "metadata": {},
   "outputs": [],
   "source": [
    "# Create char embedding layer\n",
    "char_embed = layers.Embedding(input_dim=NUM_CHAR_TOKENS, # number of different characters\n",
    "                              output_dim=25, # embedding dimension of each character \n",
    "                              mask_zero=False, # don't use masks (this messes up model_5 if set to True)\n",
    "                              name=\"char_embed\")\n"
   ]
  },
  {
   "cell_type": "code",
   "execution_count": 94,
   "id": "e9fabf62",
   "metadata": {},
   "outputs": [
    {
     "name": "stdout",
     "output_type": "stream",
     "text": [
      "Charified text (before vectorization and embedding):\n",
      "g r o u p s   w e r e   c o m p a r a b l e   w i t h   r e s p e c t   t o   s e x   ,   a g e   ,   r i s k   f a c t o r   a n d   e t i o l o g y   o f   t h e   s t r o k e   .\n",
      "\n",
      "Embedded chars (after vectorization and embedding):\n",
      "[[[ 0.00394069  0.01645413 -0.00568391 ... -0.03391526  0.03727177\n",
      "    0.03168298]\n",
      "  [ 0.04800547 -0.005621   -0.02133815 ... -0.04307506  0.03475847\n",
      "    0.03960195]\n",
      "  [-0.01836275 -0.02959629  0.01092435 ...  0.01298387  0.02364745\n",
      "    0.02485528]\n",
      "  ...\n",
      "  [-0.02208463  0.0192934   0.01557506 ...  0.01032665  0.04566652\n",
      "    0.01998201]\n",
      "  [-0.02208463  0.0192934   0.01557506 ...  0.01032665  0.04566652\n",
      "    0.01998201]\n",
      "  [-0.02208463  0.0192934   0.01557506 ...  0.01032665  0.04566652\n",
      "    0.01998201]]]\n",
      "\n",
      "Character embedding shape: (1, 290, 25)\n"
     ]
    }
   ],
   "source": [
    "# Test out character embedding layer\n",
    "print(f\"Charified text (before vectorization and embedding):\\n{random_train_chars}\\n\")\n",
    "char_embed_example = char_embed(char_vectorizer([random_train_chars]))\n",
    "print(f\"Embedded chars (after vectorization and embedding):\\n{char_embed_example}\\n\")\n",
    "print(f\"Character embedding shape: {char_embed_example.shape}\")"
   ]
  },
  {
   "cell_type": "markdown",
   "id": "61186129",
   "metadata": {},
   "source": [
    "### Model to fit on character embeddings"
   ]
  },
  {
   "cell_type": "markdown",
   "id": "4ce7fb90",
   "metadata": {},
   "source": [
    "```\n",
    "Input (character-level text) -> Tokenize -> Embedding -> LSTM -> Output (label probability)\n",
    "```"
   ]
  },
  {
   "cell_type": "code",
   "execution_count": 97,
   "id": "67a1ca83",
   "metadata": {},
   "outputs": [
    {
     "name": "stdout",
     "output_type": "stream",
     "text": [
      "(None, 64)\n",
      "(None, 290, 64)\n"
     ]
    }
   ],
   "source": [
    "# Build the model\n",
    "inputs = layers.Input(shape = (1,), dtype = \"string\")\n",
    "char_vectors = char_vectorizer(inputs)\n",
    "char_embeddings = char_embed(char_vectors)\n",
    "print(x.shape)\n",
    "x = layers.LSTM(units = 64, return_sequences = True)(char_embeddings)\n",
    "print(x.shape)\n",
    "x = layers.GlobalAvgPool1D()(x)\n",
    "outputs = layers.Dense(5, activation = \"softmax\")(x)\n",
    "model_3 = tf.keras.Model(inputs = inputs,\n",
    "                        outputs = outputs,\n",
    "                        name = \"model_3_LSTM_char_embedding\")\n",
    "\n",
    "# compile the model\n",
    "model_3.compile(loss = \"categorical_crossentropy\",\n",
    "               optimizer = tf.keras.optimizers.Adam(),\n",
    "               metrics = [\"accuracy\"])"
   ]
  },
  {
   "cell_type": "markdown",
   "id": "94bfaa50",
   "metadata": {},
   "source": [
    "* Before fitting the model on the data, we will create char-level batched **Prefetched Datasets**"
   ]
  },
  {
   "cell_type": "code",
   "execution_count": 98,
   "id": "df44d20b",
   "metadata": {},
   "outputs": [
    {
     "data": {
      "text/plain": [
       "<PrefetchDataset element_spec=(TensorSpec(shape=(None,), dtype=tf.string, name=None), TensorSpec(shape=(None, 5), dtype=tf.float64, name=None))>"
      ]
     },
     "execution_count": 98,
     "metadata": {},
     "output_type": "execute_result"
    }
   ],
   "source": [
    "# Create char datasets\n",
    "train_char_dataset = tf.data.Dataset.from_tensor_slices((train_chars, train_labels_one_hot)).batch(32).prefetch(tf.data.AUTOTUNE)\n",
    "val_char_dataset = tf.data.Dataset.from_tensor_slices((val_chars, val_labels_one_hot)).batch(32).prefetch(tf.data.AUTOTUNE)\n",
    "\n",
    "train_char_dataset"
   ]
  },
  {
   "cell_type": "code",
   "execution_count": 99,
   "id": "5da9099a",
   "metadata": {},
   "outputs": [
    {
     "name": "stdout",
     "output_type": "stream",
     "text": [
      "Epoch 1/5\n",
      "5627/5627 [==============================] - 108s 19ms/step - loss: 1.3929 - accuracy: 0.3789 - val_loss: 1.2551 - val_accuracy: 0.4626\n",
      "Epoch 2/5\n",
      "5627/5627 [==============================] - 104s 19ms/step - loss: 1.1249 - accuracy: 0.5318 - val_loss: 1.0175 - val_accuracy: 0.5932\n",
      "Epoch 3/5\n",
      "5627/5627 [==============================] - 110s 20ms/step - loss: 0.9264 - accuracy: 0.6352 - val_loss: 0.8480 - val_accuracy: 0.6710\n",
      "Epoch 4/5\n",
      "5627/5627 [==============================] - 113s 20ms/step - loss: 0.8111 - accuracy: 0.6876 - val_loss: 0.7704 - val_accuracy: 0.7066\n",
      "Epoch 5/5\n",
      "5627/5627 [==============================] - 117s 21ms/step - loss: 0.7389 - accuracy: 0.7190 - val_loss: 0.7349 - val_accuracy: 0.7213\n"
     ]
    }
   ],
   "source": [
    "# Fit the model\n",
    "model_3_history = model_3.fit(train_char_dataset,\n",
    "                             epochs = 5,\n",
    "                             validation_data = val_char_dataset)"
   ]
  },
  {
   "cell_type": "code",
   "execution_count": 100,
   "id": "87a04a80",
   "metadata": {},
   "outputs": [
    {
     "data": {
      "text/plain": [
       "<Axes: >"
      ]
     },
     "execution_count": 100,
     "metadata": {},
     "output_type": "execute_result"
    },
    {
     "data": {
      "image/png": "[encoded data removed]",
      "text/plain": [
       "<Figure size 640x480 with 1 Axes>"
      ]
     },
     "metadata": {},
     "output_type": "display_data"
    }
   ],
   "source": [
    "pd.DataFrame(model_3_history.history).plot()"
   ]
  },
  {
   "cell_type": "code",
   "execution_count": 101,
   "id": "d1b3d67d",
   "metadata": {},
   "outputs": [
    {
     "name": "stdout",
     "output_type": "stream",
     "text": [
      "945/945 [==============================] - 10s 11ms/step - loss: 0.7349 - accuracy: 0.7213\n"
     ]
    },
    {
     "data": {
      "text/plain": [
       "[0.7348625063896179, 0.7213358879089355]"
      ]
     },
     "execution_count": 101,
     "metadata": {},
     "output_type": "execute_result"
    }
   ],
   "source": [
    "# Evaluate model_3 on whole validation char dataset\n",
    "model_3.evaluate(val_char_dataset)"
   ]
  },
  {
   "cell_type": "code",
   "execution_count": 102,
   "id": "c58fbdfe",
   "metadata": {},
   "outputs": [
    {
     "name": "stdout",
     "output_type": "stream",
     "text": [
      "945/945 [==============================] - 8s 8ms/step\n"
     ]
    },
    {
     "data": {
      "text/plain": [
       "array([[2.7415910e-01, 6.2352765e-01, 1.0196521e-02, 7.6832861e-02,\n",
       "        1.5283867e-02],\n",
       "       [2.2551696e-01, 6.1440927e-01, 1.7538013e-02, 7.8349188e-02,\n",
       "        6.4186573e-02],\n",
       "       [3.8392156e-01, 5.9127696e-03, 1.8543456e-02, 5.9126455e-01,\n",
       "        3.5762807e-04],\n",
       "       ...,\n",
       "       [6.1825296e-04, 1.3117449e-02, 4.7669206e-03, 2.7984875e-04,\n",
       "        9.8121750e-01],\n",
       "       [3.6862022e-03, 2.1236402e-01, 5.1015243e-03, 2.2895609e-03,\n",
       "        7.7655876e-01],\n",
       "       [5.9596144e-02, 7.8615034e-01, 6.8520941e-03, 1.6352303e-02,\n",
       "        1.3104916e-01]], dtype=float32)"
      ]
     },
     "execution_count": 102,
     "metadata": {},
     "output_type": "execute_result"
    }
   ],
   "source": [
    "# Make predictions with character model only\n",
    "model_3_pred_probs = model_3.predict(val_char_dataset)\n",
    "model_3_pred_probs"
   ]
  },
  {
   "cell_type": "code",
   "execution_count": 104,
   "id": "287a86f3",
   "metadata": {},
   "outputs": [
    {
     "data": {
      "text/plain": [
       "<tf.Tensor: shape=(30212,), dtype=int64, numpy=array([1, 1, 3, ..., 4, 4, 1], dtype=int64)>"
      ]
     },
     "execution_count": 104,
     "metadata": {},
     "output_type": "execute_result"
    }
   ],
   "source": [
    "# Convert predictions to classes\n",
    "model_3_preds = tf.argmax(model_3_pred_probs, axis=1)\n",
    "model_3_preds"
   ]
  },
  {
   "cell_type": "code",
   "execution_count": 105,
   "id": "8f88d06f",
   "metadata": {},
   "outputs": [],
   "source": [
    "# Calculate model results\n",
    "model_3_results = calculate_results(y_true = val_labels_encoded,\n",
    "                                   y_pred = model_3_preds)"
   ]
  },
  {
   "cell_type": "code",
   "execution_count": 107,
   "id": "e7bcbfa9",
   "metadata": {},
   "outputs": [
    {
     "data": {
      "text/plain": [
       "{'accuracy': 72.133589302264,\n",
       " 'precision': 0.7233775593410275,\n",
       " 'recall': 0.72133589302264,\n",
       " 'f1': 0.715516726408535}"
      ]
     },
     "execution_count": 107,
     "metadata": {},
     "output_type": "execute_result"
    }
   ],
   "source": [
    "model_3_results"
   ]
  },
  {
   "cell_type": "markdown",
   "id": "0acd58f3",
   "metadata": {},
   "source": [
    "# Model 4: Combining pretrained token embeddings + character embeddings"
   ]
  },
  {
   "cell_type": "markdown",
   "id": "ca7066e0",
   "metadata": {},
   "source": [
    "![Image](img/character_token__embedding.png)\n"
   ]
  },
  {
   "cell_type": "markdown",
   "id": "083e9f7b",
   "metadata": {},
   "source": [
    "* Steps to Build the model\n",
    "    1. Create a token-level model \n",
    "    2. Create a character-level model \n",
    "    3. Combine (using [`layers.Concatenate`]\n",
    "    4. Build a series of output layers on top of 3 similar to Figure 1 and section \n",
    "    5. Construct a model which takes token and character-level sequences as input and produces sequence label probabilities as output"
   ]
  },
  {
   "cell_type": "markdown",
   "id": "5df326a0",
   "metadata": {},
   "source": [
    "## Choosing the Number of Units in BiLSTM: Multiples of 8\n",
    "\n",
    "When designing Bidirectional Long Short-Term Memory (BiLSTM) layers for a neural network, selecting an appropriate number of units is a crucial decision. A common practice is to choose a number of units that is a multiple of 8. Here's the rationale behind this choice:\n",
    "\n",
    "### Computational Efficiency:\n",
    "\n",
    "Many modern hardware architectures, including GPUs, are optimized for parallel processing, and they often perform more efficiently when the number of processing units aligns with their architecture. Choosing a multiple of 8 for the number of units in a BiLSTM layer can enhance computational efficiency and leverage the parallelization capabilities of these hardware platforms.\n",
    "\n",
    "### Memory Alignment:\n",
    "\n",
    "Certain hardware architectures benefit from memory alignment when working with data structures. Aligning the number of units in a BiLSTM layer to a multiple of 8 can enhance memory access patterns, leading to more efficient data processing and reduced memory access latency.\n",
    "\n",
    "### Practical Considerations:\n",
    "\n",
    "While aligning with hardware characteristics is a consideration, the choice of the number of units should also be guided by the complexity of the task, the size of the dataset, and empirical experimentation. It's essential to strike a balance between computational efficiency and model performance based on the specific requirements of the problem at hand.\n",
    "\n",
    "### Example in TensorFlow:\n",
    "\n",
    "```python\n",
    "from tensorflow.keras.layers import Bidirectional, LSTM\n",
    "\n",
    "# Choose a number of units as a multiple of 8\n",
    "num_units = 64  # Example: 8 * 8\n",
    "\n",
    "# Define a Bidirectional LSTM layer\n",
    "bilstm_layer = Bidirectional(LSTM(units=num_units, return_sequences=True))\n"
   ]
  },
  {
   "cell_type": "code",
   "execution_count": 109,
   "id": "65215d51",
   "metadata": {},
   "outputs": [],
   "source": [
    "# 1. Setup token inputs/model\n",
    "\n",
    "token_inputs = layers.Input(shape = [], dtype = tf.string,\n",
    "                           name = \"token_input\")\n",
    "token_embeddings = tf_hub_embedding_layer(token_inputs)\n",
    "token_output = layers.Dense(128, activation = \"relu\")(token_embeddings)\n",
    "token_model = tf.keras.Model(inputs = token_inputs,\n",
    "                            outputs = token_output)\n",
    "\n",
    "# 2. Setup char inputs/model\n",
    "char_inputs = layers.Input(shape = (1,), dtype = tf.string,\n",
    "                          name = \"char_input\")\n",
    "char_vectors = char_vectorizer(char_inputs)\n",
    "char_embeddings = char_embed(char_vectors)\n",
    "char_bi_lstm = layers.Bidirectional(layers.LSTM(24))(char_embeddings)\n",
    "char_model = tf.keras.Model(inputs = char_inputs,\n",
    "                           outputs = char_bi_lstm)\n",
    "\n",
    "# 3. Concatenate token and char inputs (create hybrid token embedding)\n",
    "\n",
    "token_char_concat = layers.Concatenate(name = \"token_char_hybrid\")([token_model.output,\n",
    "                                                                   char_model.output])\n",
    "\n",
    "# 4. Create output layers - addition of dropout\n",
    "combined_dropout = layers.Dropout(0.5)(token_char_concat)\n",
    "combined_dense = layers.Dense(200, activation = \"relu\")(combined_dropout)\n",
    "final_output = layers.Dropout(0.5)(combined_dense)\n",
    "output_layer = layers.Dense(5, activation = \"softmax\")(final_output)\n",
    "\n",
    "# 5. Construct model with char and token inputs\n",
    "model_4 = tf.keras.Model(inputs = [token_model.input, char_model.input],\n",
    "                        outputs = output_layer,\n",
    "                        name = \"model_4_token_and_char_embeddings\")"
   ]
  },
  {
   "cell_type": "markdown",
   "id": "4ce555a7",
   "metadata": {},
   "source": [
    "* Plot hybrid token and character model"
   ]
  },
  {
   "cell_type": "code",
   "execution_count": 111,
   "id": "770eccb0",
   "metadata": {},
   "outputs": [
    {
     "data": {
      "image/png": "[encoded data removed]",
      "text/plain": [
       "<IPython.core.display.Image object>"
      ]
     },
     "execution_count": 111,
     "metadata": {},
     "output_type": "execute_result"
    }
   ],
   "source": [
    "from tensorflow.keras.utils import plot_model\n",
    "plot_model(model_4, show_shapes = True)"
   ]
  },
  {
   "cell_type": "code",
   "execution_count": 112,
   "id": "ef49e927",
   "metadata": {},
   "outputs": [],
   "source": [
    "# Compile token char model\n",
    "model_4.compile(loss = \"categorical_crossentropy\",\n",
    "               optimizer = tf.keras.optimizers.Adam(),\n",
    "               metrics = [\"accuracy\"])"
   ]
  },
  {
   "cell_type": "markdown",
   "id": "b447dc03",
   "metadata": {},
   "source": [
    "### Combining Token and Character Data into a Dataset\n",
    "\n",
    "In natural language processing (NLP) tasks, combining both token-level and character-level information can enhance the robustness and effectiveness of machine learning models. This approach allows models to capture both semantic meaning at the token level and fine-grained details at the character level. Here's a guide on how to combine token and character data into a cohesive dataset:\n",
    "\n"
   ]
  },
  {
   "cell_type": "code",
   "execution_count": 113,
   "id": "f97ec42a",
   "metadata": {},
   "outputs": [],
   "source": [
    "# Combine chars and tokens into a dataset\n",
    "\n",
    "# make data\n",
    "train_char_token_data = tf.data.Dataset.from_tensor_slices((train_sentences,\n",
    "                                                           train_chars))\n",
    "# make labels\n",
    "train_char_token_labels = tf.data.Dataset.from_tensor_slices(train_labels_one_hot)\n",
    "\n",
    "# combine data\n",
    "train_char_token_dataset = tf.data.Dataset.zip((train_char_token_data,\n",
    "                                               train_char_token_labels))\n"
   ]
  },
  {
   "cell_type": "code",
   "execution_count": 114,
   "id": "c9123a24",
   "metadata": {},
   "outputs": [],
   "source": [
    "# Prefetch and batch train data\n",
    "train_char_token_dataset = train_char_token_dataset.batch(32).prefetch(tf.data.AUTOTUNE)"
   ]
  },
  {
   "cell_type": "code",
   "execution_count": 115,
   "id": "647dee40",
   "metadata": {},
   "outputs": [],
   "source": [
    "val_char_token_data = tf.data.Dataset.from_tensor_slices((val_sentences, val_chars))\n",
    "val_char_token_labels = tf.data.Dataset.from_tensor_slices(val_labels_one_hot)\n",
    "val_char_token_dataset = tf.data.Dataset.zip((val_char_token_data, val_char_token_labels))\n",
    "val_char_token_dataset = val_char_token_dataset.batch(32).prefetch(tf.data.AUTOTUNE)"
   ]
  },
  {
   "cell_type": "code",
   "execution_count": 117,
   "id": "d49f2068",
   "metadata": {},
   "outputs": [
    {
     "name": "stdout",
     "output_type": "stream",
     "text": [
      "Training Character and Token Embedding Dataset:\n",
      "<PrefetchDataset element_spec=((TensorSpec(shape=(None,), dtype=tf.string, name=None), TensorSpec(shape=(None,), dtype=tf.string, name=None)), TensorSpec(shape=(None, 5), dtype=tf.float64, name=None))>\n",
      "\n",
      "Validation Character and Token Embedding Dataset:\n",
      "<PrefetchDataset element_spec=((TensorSpec(shape=(None,), dtype=tf.string, name=None), TensorSpec(shape=(None,), dtype=tf.string, name=None)), TensorSpec(shape=(None, 5), dtype=tf.float64, name=None))>\n"
     ]
    }
   ],
   "source": [
    "# Display information about the training dataset with combined character and token embeddings\n",
    "print(\"Training Character and Token Embedding Dataset:\")\n",
    "print(train_char_token_dataset)\n",
    "\n",
    "# Display information about the validation dataset with combined character and token embeddings\n",
    "print(\"\\nValidation Character and Token Embedding Dataset:\")\n",
    "print(val_char_token_dataset)\n"
   ]
  },
  {
   "cell_type": "code",
   "execution_count": 118,
   "id": "43f498d4",
   "metadata": {},
   "outputs": [
    {
     "name": "stdout",
     "output_type": "stream",
     "text": [
      "Epoch 1/5\n",
      "5627/5627 [==============================] - 283s 49ms/step - loss: 0.7552 - accuracy: 0.7112 - val_loss: 0.6295 - val_accuracy: 0.7599\n",
      "Epoch 2/5\n",
      "5627/5627 [==============================] - 275s 49ms/step - loss: 0.6736 - accuracy: 0.7467 - val_loss: 0.6010 - val_accuracy: 0.7721\n",
      "Epoch 3/5\n",
      "5627/5627 [==============================] - 280s 50ms/step - loss: 0.6499 - accuracy: 0.7549 - val_loss: 0.5876 - val_accuracy: 0.7761\n",
      "Epoch 4/5\n",
      "5627/5627 [==============================] - 285s 51ms/step - loss: 0.6363 - accuracy: 0.7605 - val_loss: 0.5737 - val_accuracy: 0.7814\n",
      "Epoch 5/5\n",
      "5627/5627 [==============================] - 296s 53ms/step - loss: 0.6255 - accuracy: 0.7642 - val_loss: 0.5655 - val_accuracy: 0.7858\n"
     ]
    }
   ],
   "source": [
    "# Fit the model on tokens and chars\n",
    "\n",
    "model_4_history = model_4.fit(train_char_token_dataset,\n",
    "                             epochs = 5,\n",
    "                             validation_data = val_char_token_dataset)"
   ]
  },
  {
   "cell_type": "code",
   "execution_count": 127,
   "id": "557ac56c",
   "metadata": {},
   "outputs": [
    {
     "data": {
      "text/plain": [
       "<Axes: >"
      ]
     },
     "execution_count": 127,
     "metadata": {},
     "output_type": "execute_result"
    },
    {
     "data": {
      "image/png": "[encoded data removed]",
      "text/plain": [
       "<Figure size 640x480 with 1 Axes>"
      ]
     },
     "metadata": {},
     "output_type": "display_data"
    }
   ],
   "source": [
    "pd.DataFrame(model_4_history.history).plot()"
   ]
  },
  {
   "cell_type": "code",
   "execution_count": 119,
   "id": "5d3512db",
   "metadata": {},
   "outputs": [
    {
     "name": "stdout",
     "output_type": "stream",
     "text": [
      "945/945 [==============================] - 28s 29ms/step - loss: 0.5655 - accuracy: 0.7858\n"
     ]
    },
    {
     "data": {
      "text/plain": [
       "[0.5655189156532288, 0.7858467102050781]"
      ]
     },
     "execution_count": 119,
     "metadata": {},
     "output_type": "execute_result"
    }
   ],
   "source": [
    "# Evaluate on the whole validation dataset\n",
    "model_4.evaluate(val_char_token_dataset)"
   ]
  },
  {
   "cell_type": "code",
   "execution_count": 120,
   "id": "250fc54e",
   "metadata": {},
   "outputs": [
    {
     "name": "stdout",
     "output_type": "stream",
     "text": [
      "945/945 [==============================] - 26s 27ms/step\n"
     ]
    },
    {
     "data": {
      "text/plain": [
       "array([[5.01326859e-01, 2.99624205e-01, 1.19556440e-03, 1.93511665e-01,\n",
       "        4.34172293e-03],\n",
       "       [4.25097078e-01, 4.31772232e-01, 3.86874285e-03, 1.36786625e-01,\n",
       "        2.47537647e-03],\n",
       "       [5.11227310e-01, 6.46116561e-04, 1.17335403e-02, 4.75972295e-01,\n",
       "        4.20659839e-04],\n",
       "       ...,\n",
       "       [1.41671744e-05, 1.00842786e-04, 1.57699466e-03, 1.86734314e-06,\n",
       "        9.98306155e-01],\n",
       "       [2.04652287e-02, 8.91778991e-02, 9.84974727e-02, 4.85293381e-03,\n",
       "        7.87006497e-01],\n",
       "       [1.22853750e-02, 9.86140013e-01, 1.01066125e-03, 2.28788558e-04,\n",
       "        3.35212593e-04]], dtype=float32)"
      ]
     },
     "execution_count": 120,
     "metadata": {},
     "output_type": "execute_result"
    }
   ],
   "source": [
    "# Make predictions using token-character model hybrid\n",
    "model_4_pred_probs = model_4.predict(val_char_token_dataset)\n",
    "model_4_pred_probs"
   ]
  },
  {
   "cell_type": "code",
   "execution_count": 125,
   "id": "c0e2015e",
   "metadata": {},
   "outputs": [
    {
     "data": {
      "text/plain": [
       "<tf.Tensor: shape=(30212,), dtype=int64, numpy=array([0, 1, 0, ..., 4, 4, 1], dtype=int64)>"
      ]
     },
     "execution_count": 125,
     "metadata": {},
     "output_type": "execute_result"
    }
   ],
   "source": [
    "# Turn prediction probabiblities into prediction classes\n",
    "model_4_preds = tf.argmax(model_4_pred_probs, axis = 1)\n",
    "model_4_preds"
   ]
  },
  {
   "cell_type": "code",
   "execution_count": 126,
   "id": "fbc22cee",
   "metadata": {},
   "outputs": [
    {
     "data": {
      "text/plain": [
       "{'accuracy': 78.5846683437045,\n",
       " 'precision': 0.7845833430733352,\n",
       " 'recall': 0.7858466834370449,\n",
       " 'f1': 0.7823645457417082}"
      ]
     },
     "execution_count": 126,
     "metadata": {},
     "output_type": "execute_result"
    }
   ],
   "source": [
    "# Get results of token-char-hybrid model\n",
    "model_4_results = calculate_results(y_true=val_labels_encoded,\n",
    "                                    y_pred=model_4_preds)\n",
    "model_4_results"
   ]
  },
  {
   "cell_type": "markdown",
   "id": "0cb727f1",
   "metadata": {},
   "source": [
    "# Model 5: ANN model for sequential sentence classification"
   ]
  },
  {
   "cell_type": "markdown",
   "id": "75d6f58c",
   "metadata": {},
   "source": [
    "## Understanding Abstract Structure with Positional Embeddings\n",
    "\n",
    "Abstracts typically follow a structured order, often organized around key sections, including:\n",
    "\n",
    "- **Objective:**\n",
    "  - Clearly states the goal or purpose of the study.\n",
    "\n",
    "- **Background:**\n",
    "  - Provides context and relevant information preceding the research.\n",
    "\n",
    "- **Methods:**\n",
    "  - Describes the methodology or approach used in the study.\n",
    "\n",
    "- **Results:**\n",
    "  - Presents the findings or outcomes of the research.\n",
    "\n",
    "- **Conclusions:**\n",
    "  - Summarizes key insights and implications drawn from the study.\n",
    "\n",
    "These sections are conventionally organized in a sequential manner, forming a coherent narrative. For instance, a common order might be:\n",
    "\n",
    "1. `OBJECTIVE`\n",
    "2. `BACKGROUND`\n",
    "3. `METHODS`\n",
    "4. `RESULTS`\n",
    "5. `CONCLUSIONS`\n",
    "\n",
    "or variations like:\n",
    "\n",
    "1. `BACKGROUND`\n",
    "2. `OBJECTIVE`\n",
    "3. `METHODS`\n",
    "4. `RESULTS`\n",
    "5. `CONCLUSIONS`\n",
    "\n",
    "The role of positional embeddings becomes crucial in encoding this sequential structure. Positional embeddings enable the model to understand the inherent order of sections within an abstract, even when presented in various sequences. This capability is valuable not only during training but also extends to test time, ensuring consistent and accurate comprehension of the abstract's organizational structure.\n"
   ]
  },
  {
   "cell_type": "code",
   "execution_count": 128,
   "id": "2e1cff30",
   "metadata": {},
   "outputs": [
    {
     "data": {
      "text/html": [
       "<div>\n",
       "<style scoped>\n",
       "    .dataframe tbody tr th:only-of-type {\n",
       "        vertical-align: middle;\n",
       "    }\n",
       "\n",
       "    .dataframe tbody tr th {\n",
       "        vertical-align: top;\n",
       "    }\n",
       "\n",
       "    .dataframe thead th {\n",
       "        text-align: right;\n",
       "    }\n",
       "</style>\n",
       "<table border=\"1\" class=\"dataframe\">\n",
       "  <thead>\n",
       "    <tr style=\"text-align: right;\">\n",
       "      <th></th>\n",
       "      <th>target</th>\n",
       "      <th>text</th>\n",
       "      <th>line_number</th>\n",
       "      <th>total_lines</th>\n",
       "    </tr>\n",
       "  </thead>\n",
       "  <tbody>\n",
       "    <tr>\n",
       "      <th>0</th>\n",
       "      <td>OBJECTIVE</td>\n",
       "      <td>to investigate the efficacy of @ weeks of dail...</td>\n",
       "      <td>0</td>\n",
       "      <td>11</td>\n",
       "    </tr>\n",
       "    <tr>\n",
       "      <th>1</th>\n",
       "      <td>METHODS</td>\n",
       "      <td>a total of @ patients with primary knee oa wer...</td>\n",
       "      <td>1</td>\n",
       "      <td>11</td>\n",
       "    </tr>\n",
       "    <tr>\n",
       "      <th>2</th>\n",
       "      <td>METHODS</td>\n",
       "      <td>outcome measures included pain reduction and i...</td>\n",
       "      <td>2</td>\n",
       "      <td>11</td>\n",
       "    </tr>\n",
       "    <tr>\n",
       "      <th>3</th>\n",
       "      <td>METHODS</td>\n",
       "      <td>pain was assessed using the visual analog pain...</td>\n",
       "      <td>3</td>\n",
       "      <td>11</td>\n",
       "    </tr>\n",
       "    <tr>\n",
       "      <th>4</th>\n",
       "      <td>METHODS</td>\n",
       "      <td>secondary outcome measures included the wester...</td>\n",
       "      <td>4</td>\n",
       "      <td>11</td>\n",
       "    </tr>\n",
       "    <tr>\n",
       "      <th>5</th>\n",
       "      <td>METHODS</td>\n",
       "      <td>serum levels of interleukin @ ( il-@ ) , il-@ ...</td>\n",
       "      <td>5</td>\n",
       "      <td>11</td>\n",
       "    </tr>\n",
       "    <tr>\n",
       "      <th>6</th>\n",
       "      <td>RESULTS</td>\n",
       "      <td>there was a clinically relevant reduction in t...</td>\n",
       "      <td>6</td>\n",
       "      <td>11</td>\n",
       "    </tr>\n",
       "    <tr>\n",
       "      <th>7</th>\n",
       "      <td>RESULTS</td>\n",
       "      <td>the mean difference between treatment arms ( @...</td>\n",
       "      <td>7</td>\n",
       "      <td>11</td>\n",
       "    </tr>\n",
       "    <tr>\n",
       "      <th>8</th>\n",
       "      <td>RESULTS</td>\n",
       "      <td>further , there was a clinically relevant redu...</td>\n",
       "      <td>8</td>\n",
       "      <td>11</td>\n",
       "    </tr>\n",
       "    <tr>\n",
       "      <th>9</th>\n",
       "      <td>RESULTS</td>\n",
       "      <td>these differences remained significant at @ we...</td>\n",
       "      <td>9</td>\n",
       "      <td>11</td>\n",
       "    </tr>\n",
       "  </tbody>\n",
       "</table>\n",
       "</div>"
      ],
      "text/plain": [
       "      target                                               text  line_number  \\\n",
       "0  OBJECTIVE  to investigate the efficacy of @ weeks of dail...            0   \n",
       "1    METHODS  a total of @ patients with primary knee oa wer...            1   \n",
       "2    METHODS  outcome measures included pain reduction and i...            2   \n",
       "3    METHODS  pain was assessed using the visual analog pain...            3   \n",
       "4    METHODS  secondary outcome measures included the wester...            4   \n",
       "5    METHODS  serum levels of interleukin @ ( il-@ ) , il-@ ...            5   \n",
       "6    RESULTS  there was a clinically relevant reduction in t...            6   \n",
       "7    RESULTS  the mean difference between treatment arms ( @...            7   \n",
       "8    RESULTS  further , there was a clinically relevant redu...            8   \n",
       "9    RESULTS  these differences remained significant at @ we...            9   \n",
       "\n",
       "   total_lines  \n",
       "0           11  \n",
       "1           11  \n",
       "2           11  \n",
       "3           11  \n",
       "4           11  \n",
       "5           11  \n",
       "6           11  \n",
       "7           11  \n",
       "8           11  \n",
       "9           11  "
      ]
     },
     "execution_count": 128,
     "metadata": {},
     "output_type": "execute_result"
    }
   ],
   "source": [
    "# Inspecting training dataframe\n",
    "train_df.head(10)"
   ]
  },
  {
   "cell_type": "markdown",
   "id": "c93fe9f1",
   "metadata": {},
   "source": [
    "## Create positional embeddings"
   ]
  },
  {
   "cell_type": "code",
   "execution_count": 129,
   "id": "501dcb4d",
   "metadata": {},
   "outputs": [
    {
     "data": {
      "text/plain": [
       "line_number\n",
       "0     15000\n",
       "1     15000\n",
       "2     15000\n",
       "3     15000\n",
       "4     14992\n",
       "5     14949\n",
       "6     14758\n",
       "7     14279\n",
       "8     13346\n",
       "9     11981\n",
       "10    10041\n",
       "11     7892\n",
       "12     5853\n",
       "13     4152\n",
       "14     2835\n",
       "15     1861\n",
       "16     1188\n",
       "17      751\n",
       "18      462\n",
       "19      286\n",
       "20      162\n",
       "21      101\n",
       "22       66\n",
       "23       33\n",
       "24       22\n",
       "25       14\n",
       "26        7\n",
       "27        4\n",
       "28        3\n",
       "29        1\n",
       "30        1\n",
       "Name: count, dtype: int64"
      ]
     },
     "execution_count": 129,
     "metadata": {},
     "output_type": "execute_result"
    }
   ],
   "source": [
    "# How many different line numbers are there ?\n",
    "train_df[\"line_number\"].value_counts()"
   ]
  },
  {
   "cell_type": "code",
   "execution_count": 130,
   "id": "0345ea4c",
   "metadata": {},
   "outputs": [
    {
     "data": {
      "text/plain": [
       "<Axes: ylabel='Frequency'>"
      ]
     },
     "execution_count": 130,
     "metadata": {},
     "output_type": "execute_result"
    },
    {
     "data": {
      "image/png": "[encoded data removed]",
      "text/plain": [
       "<Figure size 640x480 with 1 Axes>"
      ]
     },
     "metadata": {},
     "output_type": "display_data"
    }
   ],
   "source": [
    "# Check the distribution of \"line_number\"\n",
    "train_df.line_number.plot.hist()"
   ]
  },
  {
   "cell_type": "markdown",
   "id": "6c661ac2",
   "metadata": {},
   "source": [
    "* The majority of lines have a position of 15 or less, with this information\n",
    "we will set the depth parameter to 15"
   ]
  },
  {
   "cell_type": "code",
   "execution_count": 131,
   "id": "016f6b24",
   "metadata": {},
   "outputs": [],
   "source": [
    "# Create one-hot-encoded tensors \n",
    "train_line_numbers_one_hot = tf.one_hot(train_df[\"line_number\"].to_numpy(),\n",
    "                                       depth = 15)\n",
    "val_line_numbers_one_hot = tf.one_hot(val_df[\"line_number\"].to_numpy(),\n",
    "                                     depth = 15)\n",
    "test_line_numbers_one_hot = tf.one_hot(test_df[\"line_number\"].to_numpy(),\n",
    "                                      depth = 15)"
   ]
  },
  {
   "cell_type": "markdown",
   "id": "14982a17",
   "metadata": {},
   "source": [
    "Setting the `depth` parameter of `tf.one_hot` to 15 means any sample with a `\"line_number\"` value of over 15 gets set to a tensor of all 0's, where as any sample with a `\"line_number\"` of under 15 gets turned into a tensor of all 0's but with a 1 at the index equal to the `\"line_number\"` value."
   ]
  },
  {
   "cell_type": "code",
   "execution_count": 132,
   "id": "1ac46512",
   "metadata": {},
   "outputs": [
    {
     "data": {
      "text/plain": [
       "TensorShape([180040, 15])"
      ]
     },
     "execution_count": 132,
     "metadata": {},
     "output_type": "execute_result"
    }
   ],
   "source": [
    "# Check one-hot encoded \"line_number\"\n",
    "train_line_numbers_one_hot.shape"
   ]
  },
  {
   "cell_type": "code",
   "execution_count": 133,
   "id": "c6ed3d3f",
   "metadata": {},
   "outputs": [
    {
     "data": {
      "text/plain": [
       "<tf.Tensor: shape=(10, 15), dtype=float32, numpy=\n",
       "array([[1., 0., 0., 0., 0., 0., 0., 0., 0., 0., 0., 0., 0., 0., 0.],\n",
       "       [0., 1., 0., 0., 0., 0., 0., 0., 0., 0., 0., 0., 0., 0., 0.],\n",
       "       [0., 0., 1., 0., 0., 0., 0., 0., 0., 0., 0., 0., 0., 0., 0.],\n",
       "       [0., 0., 0., 1., 0., 0., 0., 0., 0., 0., 0., 0., 0., 0., 0.],\n",
       "       [0., 0., 0., 0., 1., 0., 0., 0., 0., 0., 0., 0., 0., 0., 0.],\n",
       "       [0., 0., 0., 0., 0., 1., 0., 0., 0., 0., 0., 0., 0., 0., 0.],\n",
       "       [0., 0., 0., 0., 0., 0., 1., 0., 0., 0., 0., 0., 0., 0., 0.],\n",
       "       [0., 0., 0., 0., 0., 0., 0., 1., 0., 0., 0., 0., 0., 0., 0.],\n",
       "       [0., 0., 0., 0., 0., 0., 0., 0., 1., 0., 0., 0., 0., 0., 0.],\n",
       "       [0., 0., 0., 0., 0., 0., 0., 0., 0., 1., 0., 0., 0., 0., 0.]],\n",
       "      dtype=float32)>"
      ]
     },
     "execution_count": 133,
     "metadata": {},
     "output_type": "execute_result"
    }
   ],
   "source": [
    "train_line_numbers_one_hot[:10]"
   ]
  },
  {
   "cell_type": "markdown",
   "id": "059c4c7c",
   "metadata": {},
   "source": [
    "* we are gona do samething as line_number for total_lines"
   ]
  },
  {
   "cell_type": "code",
   "execution_count": 134,
   "id": "dc6f359a",
   "metadata": {},
   "outputs": [
    {
     "data": {
      "text/plain": [
       "total_lines\n",
       "11    24468\n",
       "10    23639\n",
       "12    22113\n",
       "9     19400\n",
       "13    18438\n",
       "14    14610\n",
       "8     12285\n",
       "15    10768\n",
       "7      7464\n",
       "16     7429\n",
       "17     5202\n",
       "6      3353\n",
       "18     3344\n",
       "19     2480\n",
       "20     1281\n",
       "5      1146\n",
       "21      770\n",
       "22      759\n",
       "23      264\n",
       "4       215\n",
       "24      200\n",
       "25      182\n",
       "26       81\n",
       "28       58\n",
       "3        32\n",
       "30       31\n",
       "27       28\n",
       "Name: count, dtype: int64"
      ]
     },
     "execution_count": 134,
     "metadata": {},
     "output_type": "execute_result"
    }
   ],
   "source": [
    "# How many different numbers of lines are there ?\n",
    "train_df[\"total_lines\"].value_counts()"
   ]
  },
  {
   "cell_type": "code",
   "execution_count": 135,
   "id": "a3cee8e0",
   "metadata": {},
   "outputs": [
    {
     "data": {
      "text/plain": [
       "<Axes: ylabel='Frequency'>"
      ]
     },
     "execution_count": 135,
     "metadata": {},
     "output_type": "execute_result"
    },
    {
     "data": {
      "image/png": "[encoded data removed]",
      "text/plain": [
       "<Figure size 640x480 with 1 Axes>"
      ]
     },
     "metadata": {},
     "output_type": "display_data"
    }
   ],
   "source": [
    "# Check the distribution of total lines\n",
    "train_df.total_lines.plot.hist()"
   ]
  },
  {
   "cell_type": "markdown",
   "id": "2fb8896f",
   "metadata": {},
   "source": [
    "Looking at the distribution of our `\"total_lines\"` column, a value of 20 looks like it covers the majority of samples."
   ]
  },
  {
   "cell_type": "code",
   "execution_count": 136,
   "id": "ad59e398",
   "metadata": {},
   "outputs": [
    {
     "data": {
      "text/plain": [
       "(TensorShape([180040, 20]),\n",
       " <tf.Tensor: shape=(10, 20), dtype=float32, numpy=\n",
       " array([[0., 0., 0., 0., 0., 0., 0., 0., 0., 0., 0., 1., 0., 0., 0., 0.,\n",
       "         0., 0., 0., 0.],\n",
       "        [0., 0., 0., 0., 0., 0., 0., 0., 0., 0., 0., 1., 0., 0., 0., 0.,\n",
       "         0., 0., 0., 0.],\n",
       "        [0., 0., 0., 0., 0., 0., 0., 0., 0., 0., 0., 1., 0., 0., 0., 0.,\n",
       "         0., 0., 0., 0.],\n",
       "        [0., 0., 0., 0., 0., 0., 0., 0., 0., 0., 0., 1., 0., 0., 0., 0.,\n",
       "         0., 0., 0., 0.],\n",
       "        [0., 0., 0., 0., 0., 0., 0., 0., 0., 0., 0., 1., 0., 0., 0., 0.,\n",
       "         0., 0., 0., 0.],\n",
       "        [0., 0., 0., 0., 0., 0., 0., 0., 0., 0., 0., 1., 0., 0., 0., 0.,\n",
       "         0., 0., 0., 0.],\n",
       "        [0., 0., 0., 0., 0., 0., 0., 0., 0., 0., 0., 1., 0., 0., 0., 0.,\n",
       "         0., 0., 0., 0.],\n",
       "        [0., 0., 0., 0., 0., 0., 0., 0., 0., 0., 0., 1., 0., 0., 0., 0.,\n",
       "         0., 0., 0., 0.],\n",
       "        [0., 0., 0., 0., 0., 0., 0., 0., 0., 0., 0., 1., 0., 0., 0., 0.,\n",
       "         0., 0., 0., 0.],\n",
       "        [0., 0., 0., 0., 0., 0., 0., 0., 0., 0., 0., 1., 0., 0., 0., 0.,\n",
       "         0., 0., 0., 0.]], dtype=float32)>)"
      ]
     },
     "execution_count": 136,
     "metadata": {},
     "output_type": "execute_result"
    }
   ],
   "source": [
    "train_total_lines_one_hot = tf.one_hot(train_df[\"total_lines\"].to_numpy(), depth=20)\n",
    "val_total_lines_one_hot = tf.one_hot(val_df[\"total_lines\"].to_numpy(), depth=20)\n",
    "test_total_lines_one_hot = tf.one_hot(test_df[\"total_lines\"].to_numpy(), depth=20)\n",
    "\n",
    "# Check shape and samples of total lines one-hot tensor\n",
    "train_total_lines_one_hot.shape, train_total_lines_one_hot[:10]"
   ]
  },
  {
   "cell_type": "markdown",
   "id": "c04ed88f",
   "metadata": {},
   "source": [
    "## Building a tribrid embedding model"
   ]
  },
  {
   "cell_type": "markdown",
   "id": "a6c85aa8",
   "metadata": {},
   "source": [
    "1. Create a token-level model \n",
    "2. Create a character-level model \n",
    "3. Create a `\"line_number\"` model \n",
    "4. Create a `\"total_lines\"` model \n",
    "5. Combine  the outputs of 3, 4 and 5 into a token-character-positional tribrid embedding \n",
    "7. Create an output layer to accept the tribrid embedding and output predicted label probabilities\n",
    "8. Combine the inputs of 1, 2, 3, 4 and outputs of 7 into a [`tf.keras.Model`]"
   ]
  },
  {
   "cell_type": "code",
   "execution_count": 138,
   "id": "92379978",
   "metadata": {},
   "outputs": [],
   "source": [
    "# Step 1. Token inputs\n",
    "\n",
    "token_inputs = layers.Input(shape = [], dtype = \"string\",\n",
    "                           name = \"token_inputs\")\n",
    "token_embeddings = tf_hub_embedding_layer(token_inputs)\n",
    "token_outputs = layers.Dense(128, activation = \"relu\")(token_embeddings)\n",
    "token_model = tf.keras.Model(inputs = token_inputs,\n",
    "                            outputs = token_outputs)\n",
    "\n",
    "# Step 2. Char inputs\n",
    "char_inputs = layers.Input(shape = (1,), dtype = \"string\",\n",
    "                          name = \"char_inputs\")\n",
    "char_vectors = char_vectorizer(char_inputs)\n",
    "char_embeddings = char_embed(char_vectors)\n",
    "char_bi_lstm = layers.Bidirectional(layers.LSTM(units = 24))(char_embeddings)\n",
    "char_model = tf.keras.Model(inputs = char_inputs,\n",
    "                           outputs = char_bi_lstm)\n",
    "\n",
    "# Step 3. Line numbers inputs\n",
    "line_number_inputs = layers.Input(shape = (15,), dtype = tf.int32,\n",
    "                                 name = 'line_number_inputs')\n",
    "x = layers.Dense(32, activation = \"relu\")(line_number_inputs)\n",
    "line_number_model = tf.keras.Model(inputs = line_number_inputs,\n",
    "                                  outputs = x)\n",
    "\n",
    "# Step 4. Total lines inputs\n",
    "total_line_inputs = layers.Input(shape = (20,), dtype = tf.int32,\n",
    "                                name = \"total_lines_inputs\")\n",
    "y = layers.Dense(32, activation = \"relu\")(total_line_inputs)\n",
    "total_line_model = tf.keras.Model(inputs = total_line_inputs,\n",
    "                                 outputs = y)\n",
    "\n",
    "# Step 5. Combine token and char embeddings into hybrid embedding\n",
    "combined_embeddings = layers.Concatenate(name = \"token_char_hybrid_embedding\")([token_model.output,\n",
    "                                                                               char_model.output])\n",
    "\n",
    "z = layers.Dense(256, activation = \"relu\")(combined_embeddings)\n",
    "z = layers.Dropout(0.5)(z)\n",
    "\n",
    "# Step 6. Combine positional embeddings with combined token and char embedding\n",
    "z = layers.Concatenate(name = \"token_char_positional_embedding\")([line_number_model.output,\n",
    "                                                                 total_line_model.output,\n",
    "                                                                 z])\n",
    "# Step 7. Create output layer\n",
    "output_layer = layers.Dense(5, activation = \"softmax\",\n",
    "                           name = \"output_layer\")(z)\n",
    "\n",
    "# Step 8. Put all together\n",
    "model_5 = tf.keras.Model(inputs = [line_number_model.input,\n",
    "                                  total_line_model.input,\n",
    "                                  token_model.input,\n",
    "                                  char_model.input],\n",
    "                        outputs = output_layer)"
   ]
  },
  {
   "cell_type": "markdown",
   "id": "66d23e58",
   "metadata": {},
   "source": [
    "* Plot the Tribrid model"
   ]
  },
  {
   "cell_type": "code",
   "execution_count": 140,
   "id": "76edf5ed",
   "metadata": {},
   "outputs": [
    {
     "data": {
      "image/png": "[encoded data removed]",
      "text/plain": [
       "<IPython.core.display.Image object>"
      ]
     },
     "execution_count": 140,
     "metadata": {},
     "output_type": "execute_result"
    }
   ],
   "source": [
    "from tensorflow.keras.utils import plot_model\n",
    "plot_model(model_5, show_shapes = True)"
   ]
  },
  {
   "cell_type": "markdown",
   "id": "f8ee38c6",
   "metadata": {},
   "source": [
    "## Understanding Label Smoothing in Neural Networks\n",
    "\n",
    "Label Smoothing is a regularization technique commonly used in neural networks, especially in classification tasks, to improve the generalization and robustness of the model. The primary goal of label smoothing is to prevent the model from becoming overconfident and overly reliant on training data, thereby enhancing its ability to handle unseen or uncertain instances.\n",
    "\n",
    "### Purpose of Label Smoothing:\n",
    "\n",
    "1. **Avoiding Overfitting:**\n",
    "   - Label Smoothing helps mitigate the risk of overfitting, where a model memorizes the training data but fails to generalize well to new, unseen examples.\n",
    "\n",
    "2. **Enhancing Robustness:**\n",
    "   - By introducing a degree of uncertainty into the training labels, label smoothing encourages the model to be less certain about its predictions, making it more robust to noise and variations in the data.\n",
    "\n",
    "### Mathematical Formulation:\n",
    "\n",
    "The label smoothing mechanism adjusts the target labels by blending them with a uniform distribution. For a given true label \\(y_i\\) and the adjusted label \\(y'_i\\), the formula is:\n",
    "\n",
    "$$ y'_i = (1 - \\epsilon) \\cdot y_i + \\frac{\\epsilon}{K} $$\n",
    "\n",
    "where:\n",
    "- $\\epsilon$ is the label smoothing parameter, typically a small positive value.\n",
    "- \\(K\\) is the number of classes.\n",
    "\n",
    "### Implementation in TensorFlow:\n",
    "\n",
    "In TensorFlow, label smoothing can be applied using a custom loss function or directly within the model's training loop. Here's a simplified example:\n",
    "\n",
    "```python\n",
    "import tensorflow as tf\n",
    "\n",
    "def label_smoothed_loss(y_true, y_pred, epsilon=0.1):\n",
    "    K = tf.shape(y_true)[-1]\n",
    "    y_smoothed = (1.0 - epsilon) * y_true + epsilon / tf.cast(K, dtype=tf.float32)\n",
    "    return tf.keras.losses.categorical_crossentropy(y_smoothed, y_pred)\n",
    "\n",
    "# Example usage in a model\n",
    "model.compile(optimizer='adam', loss=label_smoothed_loss, metrics=['accuracy'])\n"
   ]
  },
  {
   "cell_type": "code",
   "execution_count": 141,
   "id": "a9754363",
   "metadata": {},
   "outputs": [],
   "source": [
    "# Compile the model\n",
    "model_5.compile(loss = tf.keras.losses.CategoricalCrossentropy(label_smoothing = 0.2),\n",
    "               optimizer = tf.keras.optimizers.Adam(),\n",
    "               metrics = [\"accuracy\"])"
   ]
  },
  {
   "cell_type": "markdown",
   "id": "e1b7a987",
   "metadata": {},
   "source": [
    "## Create a tribrid embedding datasets "
   ]
  },
  {
   "cell_type": "markdown",
   "id": "619a8e41",
   "metadata": {},
   "source": [
    "This time our model requires four feature inputs:\n",
    "1. Train line numbers one-hot tensor (`train_line_numbers_one_hot`)\n",
    "2. Train total lines one-hot tensor (`train_total_lines_one_hot`)\n",
    "3. Token-level sequences tensor (`train_sentences`)\n",
    "4. Char-level sequences tensor (`train_chars`)\n"
   ]
  },
  {
   "cell_type": "code",
   "execution_count": 142,
   "id": "f96ee7da",
   "metadata": {},
   "outputs": [
    {
     "data": {
      "text/plain": [
       "(<PrefetchDataset element_spec=((TensorSpec(shape=(None, 15), dtype=tf.float32, name=None), TensorSpec(shape=(None, 20), dtype=tf.float32, name=None), TensorSpec(shape=(None,), dtype=tf.string, name=None), TensorSpec(shape=(None,), dtype=tf.string, name=None)), TensorSpec(shape=(None, 5), dtype=tf.float64, name=None))>,\n",
       " <PrefetchDataset element_spec=((TensorSpec(shape=(None, 15), dtype=tf.float32, name=None), TensorSpec(shape=(None, 20), dtype=tf.float32, name=None), TensorSpec(shape=(None,), dtype=tf.string, name=None), TensorSpec(shape=(None,), dtype=tf.string, name=None)), TensorSpec(shape=(None, 5), dtype=tf.float64, name=None))>)"
      ]
     },
     "execution_count": 142,
     "metadata": {},
     "output_type": "execute_result"
    }
   ],
   "source": [
    "# Create training and validation datasets (all four kinds of inputs)\n",
    "train_pos_char_token_data = tf.data.Dataset.from_tensor_slices((train_line_numbers_one_hot, # line numbers\n",
    "                                                                train_total_lines_one_hot, # total lines\n",
    "                                                                train_sentences, # train tokens\n",
    "                                                                train_chars)) # train chars\n",
    "train_pos_char_token_labels = tf.data.Dataset.from_tensor_slices(train_labels_one_hot) # train labels\n",
    "train_pos_char_token_dataset = tf.data.Dataset.zip((train_pos_char_token_data, train_pos_char_token_labels)) # combine data and labels\n",
    "train_pos_char_token_dataset = train_pos_char_token_dataset.batch(32).prefetch(tf.data.AUTOTUNE) # turn into batches and prefetch appropriately\n",
    "\n",
    "# Validation dataset\n",
    "val_pos_char_token_data = tf.data.Dataset.from_tensor_slices((val_line_numbers_one_hot,\n",
    "                                                              val_total_lines_one_hot,\n",
    "                                                              val_sentences,\n",
    "                                                              val_chars))\n",
    "val_pos_char_token_labels = tf.data.Dataset.from_tensor_slices(val_labels_one_hot)\n",
    "val_pos_char_token_dataset = tf.data.Dataset.zip((val_pos_char_token_data, val_pos_char_token_labels))\n",
    "val_pos_char_token_dataset = val_pos_char_token_dataset.batch(32).prefetch(tf.data.AUTOTUNE) # turn into batches and prefetch appropriately\n",
    "\n",
    "# Check input shapes\n",
    "train_pos_char_token_dataset, val_pos_char_token_dataset"
   ]
  },
  {
   "cell_type": "code",
   "execution_count": 143,
   "id": "0e517299",
   "metadata": {},
   "outputs": [
    {
     "name": "stdout",
     "output_type": "stream",
     "text": [
      "Epoch 1/10\n",
      "5627/5627 [==============================] - 289s 51ms/step - loss: 0.9533 - accuracy: 0.8236 - val_loss: 0.9078 - val_accuracy: 0.8489\n",
      "Epoch 2/10\n",
      "5627/5627 [==============================] - 282s 50ms/step - loss: 0.9088 - accuracy: 0.8541 - val_loss: 0.8980 - val_accuracy: 0.8552\n",
      "Epoch 3/10\n",
      "5627/5627 [==============================] - 280s 50ms/step - loss: 0.8963 - accuracy: 0.8636 - val_loss: 0.8951 - val_accuracy: 0.8572\n",
      "Epoch 4/10\n",
      "5627/5627 [==============================] - 282s 50ms/step - loss: 0.8878 - accuracy: 0.8695 - val_loss: 0.8963 - val_accuracy: 0.8563\n",
      "Epoch 5/10\n",
      "5627/5627 [==============================] - 282s 50ms/step - loss: 0.8807 - accuracy: 0.8750 - val_loss: 0.8964 - val_accuracy: 0.8561\n",
      "Epoch 6/10\n",
      "5627/5627 [==============================] - 282s 50ms/step - loss: 0.8754 - accuracy: 0.8788 - val_loss: 0.8924 - val_accuracy: 0.8601\n",
      "Epoch 7/10\n",
      "5627/5627 [==============================] - 282s 50ms/step - loss: 0.8708 - accuracy: 0.8828 - val_loss: 0.8946 - val_accuracy: 0.8590\n",
      "Epoch 8/10\n",
      "5627/5627 [==============================] - 283s 50ms/step - loss: 0.8685 - accuracy: 0.8840 - val_loss: 0.8959 - val_accuracy: 0.8594\n",
      "Epoch 9/10\n",
      "5627/5627 [==============================] - 283s 50ms/step - loss: 0.8638 - accuracy: 0.8882 - val_loss: 0.8964 - val_accuracy: 0.8582\n",
      "Epoch 10/10\n",
      "5627/5627 [==============================] - 281s 50ms/step - loss: 0.8614 - accuracy: 0.8901 - val_loss: 0.9002 - val_accuracy: 0.8564\n"
     ]
    }
   ],
   "source": [
    "# Fit the model\n",
    "model_5_history = model_5.fit(train_pos_char_token_dataset,\n",
    "                             epochs = 10,\n",
    "                             validation_data = val_pos_char_token_dataset)"
   ]
  },
  {
   "cell_type": "code",
   "execution_count": 144,
   "id": "66c6ed0e",
   "metadata": {},
   "outputs": [
    {
     "data": {
      "text/plain": [
       "<Axes: >"
      ]
     },
     "execution_count": 144,
     "metadata": {},
     "output_type": "execute_result"
    },
    {
     "data": {
      "image/png": "[encoded data removed]",
      "text/plain": [
       "<Figure size 640x480 with 1 Axes>"
      ]
     },
     "metadata": {},
     "output_type": "display_data"
    }
   ],
   "source": [
    "pd.DataFrame(model_5_history.history).plot()"
   ]
  },
  {
   "cell_type": "code",
   "execution_count": 145,
   "id": "ee839b63",
   "metadata": {},
   "outputs": [
    {
     "name": "stdout",
     "output_type": "stream",
     "text": [
      "945/945 [==============================] - 27s 28ms/step\n"
     ]
    },
    {
     "data": {
      "text/plain": [
       "array([[0.58359545, 0.08434473, 0.03468012, 0.27074444, 0.02663533],\n",
       "       [0.5509992 , 0.10060535, 0.0718912 , 0.25559345, 0.02091075],\n",
       "       [0.28413564, 0.06818485, 0.02429014, 0.58120495, 0.04218436],\n",
       "       ...,\n",
       "       [0.02489461, 0.07734222, 0.01697423, 0.03378055, 0.84700835],\n",
       "       [0.02509947, 0.7458454 , 0.04070122, 0.0222185 , 0.16613546],\n",
       "       [0.05437759, 0.88165194, 0.0241868 , 0.0252044 , 0.01457916]],\n",
       "      dtype=float32)"
      ]
     },
     "execution_count": 145,
     "metadata": {},
     "output_type": "execute_result"
    }
   ],
   "source": [
    "# Make predictions with token-char-positional hybrid model\n",
    "model_5_pred_probs = model_5.predict(val_pos_char_token_dataset, verbose=1)\n",
    "model_5_pred_probs"
   ]
  },
  {
   "cell_type": "code",
   "execution_count": 146,
   "id": "bf72b1dc",
   "metadata": {},
   "outputs": [
    {
     "data": {
      "text/plain": [
       "<tf.Tensor: shape=(30212,), dtype=int64, numpy=array([0, 0, 3, ..., 4, 1, 1], dtype=int64)>"
      ]
     },
     "execution_count": 146,
     "metadata": {},
     "output_type": "execute_result"
    }
   ],
   "source": [
    "# Turn prediction probabilities into prediction classes\n",
    "model_5_preds = tf.argmax(model_5_pred_probs, axis=1)\n",
    "model_5_preds"
   ]
  },
  {
   "cell_type": "code",
   "execution_count": 147,
   "id": "9c9bbe53",
   "metadata": {},
   "outputs": [
    {
     "data": {
      "text/plain": [
       "{'accuracy': 85.6381570236992,\n",
       " 'precision': 0.8585489589118434,\n",
       " 'recall': 0.8563815702369919,\n",
       " 'f1': 0.8538276595137048}"
      ]
     },
     "execution_count": 147,
     "metadata": {},
     "output_type": "execute_result"
    }
   ],
   "source": [
    "# Calculate results of token-char-positional hybrid model\n",
    "model_5_results = calculate_results(y_true=val_labels_encoded,\n",
    "                                    y_pred=model_5_preds)\n",
    "model_5_results"
   ]
  },
  {
   "cell_type": "code",
   "execution_count": 149,
   "id": "b3c2f81a",
   "metadata": {},
   "outputs": [
    {
     "data": {
      "text/html": [
       "<div>\n",
       "<style scoped>\n",
       "    .dataframe tbody tr th:only-of-type {\n",
       "        vertical-align: middle;\n",
       "    }\n",
       "\n",
       "    .dataframe tbody tr th {\n",
       "        vertical-align: top;\n",
       "    }\n",
       "\n",
       "    .dataframe thead th {\n",
       "        text-align: right;\n",
       "    }\n",
       "</style>\n",
       "<table border=\"1\" class=\"dataframe\">\n",
       "  <thead>\n",
       "    <tr style=\"text-align: right;\">\n",
       "      <th></th>\n",
       "      <th>accuracy</th>\n",
       "      <th>precision</th>\n",
       "      <th>recall</th>\n",
       "      <th>f1</th>\n",
       "    </tr>\n",
       "  </thead>\n",
       "  <tbody>\n",
       "    <tr>\n",
       "      <th>custom_token_embed</th>\n",
       "      <td>79.782868</td>\n",
       "      <td>0.797397</td>\n",
       "      <td>0.797829</td>\n",
       "      <td>0.797035</td>\n",
       "    </tr>\n",
       "    <tr>\n",
       "      <th>pretrained_token_embed</th>\n",
       "      <td>77.217662</td>\n",
       "      <td>0.770709</td>\n",
       "      <td>0.772177</td>\n",
       "      <td>0.768106</td>\n",
       "    </tr>\n",
       "    <tr>\n",
       "      <th>custom_char_embed</th>\n",
       "      <td>72.133589</td>\n",
       "      <td>0.723378</td>\n",
       "      <td>0.721336</td>\n",
       "      <td>0.715517</td>\n",
       "    </tr>\n",
       "    <tr>\n",
       "      <th>hybrid_char_token_embed</th>\n",
       "      <td>78.584668</td>\n",
       "      <td>0.784583</td>\n",
       "      <td>0.785847</td>\n",
       "      <td>0.782365</td>\n",
       "    </tr>\n",
       "    <tr>\n",
       "      <th>tribrid_pos_char_token_embed</th>\n",
       "      <td>85.638157</td>\n",
       "      <td>0.858549</td>\n",
       "      <td>0.856382</td>\n",
       "      <td>0.853828</td>\n",
       "    </tr>\n",
       "  </tbody>\n",
       "</table>\n",
       "</div>"
      ],
      "text/plain": [
       "                               accuracy  precision    recall        f1\n",
       "custom_token_embed            79.782868   0.797397  0.797829  0.797035\n",
       "pretrained_token_embed        77.217662   0.770709  0.772177  0.768106\n",
       "custom_char_embed             72.133589   0.723378  0.721336  0.715517\n",
       "hybrid_char_token_embed       78.584668   0.784583  0.785847  0.782365\n",
       "tribrid_pos_char_token_embed  85.638157   0.858549  0.856382  0.853828"
      ]
     },
     "execution_count": 149,
     "metadata": {},
     "output_type": "execute_result"
    }
   ],
   "source": [
    "# Combine model results into a DataFrame\n",
    "all_model_results = pd.DataFrame({\n",
    "                                  \"custom_token_embed\": model_1_results,\n",
    "                                  \"pretrained_token_embed\": model_2_results,\n",
    "                                  \"custom_char_embed\": model_3_results,\n",
    "                                  \"hybrid_char_token_embed\": model_4_results,\n",
    "                                  \"tribrid_pos_char_token_embed\": model_5_results})\n",
    "all_model_results = all_model_results.transpose()\n",
    "all_model_results"
   ]
  },
  {
   "cell_type": "markdown",
   "id": "ce37f0aa",
   "metadata": {},
   "source": [
    "## Model Performance Metrics\n",
    "\n",
    "Here are the performance metrics for different models on a classification task. The metrics include accuracy, precision, recall, and F1 score. Each model is named based on its embedding strategy.\n",
    "\n",
    "| Model Name                     | Accuracy | Precision | Recall  | F1 Score |\n",
    "| ------------------------------ | -------- | --------- | ------- | -------- |\n",
    "| **custom_token_embed**         | 79.78%   | 79.74%    | 79.78%  | 79.70%   |\n",
    "| **pretrained_token_embed**     | 77.22%   | 77.07%    | 77.22%  | 76.81%   |\n",
    "| **custom_char_embed**          | 72.13%   | 72.34%    | 72.13%  | 71.55%   |\n",
    "| **hybrid_char_token_embed**    | 78.58%   | 78.46%    | 78.58%  | 78.24%   |\n",
    "| **tribrid_pos_char_token_embed**| 85.64%  | 85.85%    | 85.64%  | 85.38%   |\n",
    "\n",
    "### Interpretation:\n",
    "\n",
    "1. **custom_token_embed:**\n",
    "   - Utilizes custom token embeddings.\n",
    "   - Achieves balanced performance across accuracy, precision, recall, and F1 score.\n",
    "\n",
    "2. **pretrained_token_embed:**\n",
    "   - Uses pretrained token embeddings, potentially from language models.\n",
    "   - Slightly lower accuracy compared to the custom token embeddings.\n",
    "\n",
    "3. **custom_char_embed:**\n",
    "   - Incorporates custom character embeddings.\n",
    "   - Lower accuracy compared to token-based approaches.\n",
    "\n",
    "4. **hybrid_char_token_embed:**\n",
    "   - Combines character and token embeddings in a hybrid approach.\n",
    "   - Balanced performance with competitive accuracy and F1 score.\n",
    "\n",
    "5. **tribrid_pos_char_token_embed:**\n",
    "   - Integrates positional, character, and token embeddings in a tribrid approach.\n",
    "   - Demonstrates the highest overall performance with the highest accuracy, precision, recall, and F1 score.\n",
    "\n",
    "These metrics provide insights into the effectiveness of different embedding strategies, helping in the selection of the most suitable model based on the specific goals and requirements of the classification task.\n"
   ]
  },
  {
   "cell_type": "markdown",
   "id": "93d03683",
   "metadata": {},
   "source": [
    "## Evaluation of the Tribrid Model\n",
    "\n",
    "The tribrid_pos_char_token_embed model has demonstrated commendable performance, achieving high F1-score, recall, and precision. However, it's crucial to address the observation of a relatively high loss, indicating a potential issue of overfitting.\n",
    "\n",
    "### Performance Metrics:\n",
    "\n",
    "- **F1-score:** Achieved a strong F1-score, indicating a good balance between precision and recall.\n",
    "- **Recall:** Demonstrated high recall, showcasing the model's ability to capture a significant portion of true positive instances.\n",
    "- **Precision:** Exhibited high precision, emphasizing the accuracy of positive predictions among instances classified as positive.\n",
    "\n",
    "### Concern: High Loss and Potential Overfitting\n",
    "\n",
    "- **Loss:** The observed high loss suggests that the model may be fitting too closely to the training data, potentially compromising its ability to generalize to new, unseen data.\n",
    "\n",
    "### Mitigation Strategy:\n",
    "\n",
    "To address the potential overfitting issue, consider implementing the following strategies:\n",
    "\n",
    "1. **Regularization Techniques:**\n",
    "   - Introduce dropout layers within the model architecture to randomly deactivate a fraction of neurons during training, preventing overreliance on specific features.\n",
    "\n",
    "2. **Adjust Model Complexity:**\n",
    "   - Evaluate if the model architecture is overly complex for the given task. Reducing the number of layers or neurons may help mitigate overfitting.\n",
    "\n",
    "3. **Data Augmentation:**\n",
    "   - Augment the training dataset by applying random transformations to the input data, introducing variability and improving the model's ability to generalize.\n",
    "\n",
    "4. **Early Stopping:**\n",
    "   - Implement early stopping during training to halt the training process when the model's performance on a validation set starts to degrade, preventing overfitting.\n",
    "\n",
    "5. **Hyperparameter Tuning:**\n",
    "   - Experiment with different hyperparameter configurations, such as learning rates or batch sizes, to find values that enhance generalization.\n",
    "\n",
    "By implementing these strategies, you can enhance the robustness of the model, mitigate overfitting, and improve its ability to perform well on unseen data.\n"
   ]
  },
  {
   "cell_type": "markdown",
   "id": "58b7bb8c",
   "metadata": {},
   "source": [
    "## Identifying Potential Overfitting in the Tribrid Model\n",
    "\n",
    "Our tribrid model is performing well, but it's essential to pinpoint any potential overfitting within its components. Let's explore and identify which specific part of the model might be susceptible to overfitting.\n",
    "\n",
    "### Evaluation Steps:\n",
    "\n",
    "1. **Analyzing Loss Curves:**\n",
    "   - Examine the training and validation loss curves for each component of the tribrid model.\n",
    "   - A significant gap between the training and validation loss curves may indicate overfitting.\n",
    "\n",
    "2. **Inspecting Training Metrics:**\n",
    "   - Evaluate the training accuracy, precision, recall, and F1-score for each part of the tribrid model.\n",
    "   - High training metrics without corresponding improvements on the validation set can be indicative of overfitting.\n",
    "\n",
    "\n",
    "By thoroughly analyzing these aspects, we can make informed adjustments to enhance the tribrid model's ability to generalize and perform well on unseen data.\n"
   ]
  },
  {
   "cell_type": "code",
   "execution_count": 179,
   "id": "e3014fc7",
   "metadata": {},
   "outputs": [],
   "source": [
    "import matplotlib.pyplot as plt\n",
    "\n",
    "def plot_training_history(histories, metric='accuracy', title='Model Training History'):\n",
    "    plt.figure(figsize=(12, 8))\n",
    "\n",
    "    for i, history in enumerate(histories):\n",
    "        plt.plot(history[metric], label=f'Model {i + 1} - Training')\n",
    "        plt.plot(history[f'val_{metric}'], label=f'Model {i + 1} - Validation')\n",
    "\n",
    "    plt.title(title)\n",
    "    plt.xlabel('Epoch')\n",
    "    plt.ylabel(metric.capitalize())\n",
    "    plt.legend()\n",
    "    plt.show()"
   ]
  },
  {
   "cell_type": "code",
   "execution_count": 186,
   "id": "fe9b8c57",
   "metadata": {
    "scrolled": true
   },
   "outputs": [
    {
     "data": {
      "text/plain": [
       "[{'loss': [0.7632833123207092,\n",
       "   0.6653537154197693,\n",
       "   0.6325005292892456,\n",
       "   0.6099804043769836,\n",
       "   0.5920596718788147],\n",
       "  'accuracy': [0.7065874338150024,\n",
       "   0.7465507388114929,\n",
       "   0.7594534754753113,\n",
       "   0.7680237889289856,\n",
       "   0.7751666307449341],\n",
       "  'val_loss': [0.6854707598686218,\n",
       "   0.6448532938957214,\n",
       "   0.6235858201980591,\n",
       "   0.6091631054878235,\n",
       "   0.5991312861442566],\n",
       "  'val_accuracy': [0.7386800050735474,\n",
       "   0.7542036175727844,\n",
       "   0.7627432942390442,\n",
       "   0.7677744030952454,\n",
       "   0.7721766233444214]},\n",
       " {'loss': [1.3928638696670532,\n",
       "   1.1248539686203003,\n",
       "   0.9264389276504517,\n",
       "   0.8110565543174744,\n",
       "   0.7388508915901184],\n",
       "  'accuracy': [0.3788546919822693,\n",
       "   0.5317984819412231,\n",
       "   0.6352477073669434,\n",
       "   0.6875749826431274,\n",
       "   0.7190402150154114],\n",
       "  'val_loss': [1.2551428079605103,\n",
       "   1.017549991607666,\n",
       "   0.8480076193809509,\n",
       "   0.7704429030418396,\n",
       "   0.7348625063896179],\n",
       "  'val_accuracy': [0.4625645577907562,\n",
       "   0.5932410955429077,\n",
       "   0.6709916591644287,\n",
       "   0.7066066265106201,\n",
       "   0.7213358879089355]},\n",
       " {'loss': [0.7551577687263489,\n",
       "   0.6735931038856506,\n",
       "   0.649894118309021,\n",
       "   0.6363232135772705,\n",
       "   0.6254832148551941],\n",
       "  'accuracy': [0.7112141847610474,\n",
       "   0.7466562986373901,\n",
       "   0.754871129989624,\n",
       "   0.7605254650115967,\n",
       "   0.7642468214035034],\n",
       "  'val_loss': [0.6295068860054016,\n",
       "   0.6009776592254639,\n",
       "   0.5876253247261047,\n",
       "   0.5736981630325317,\n",
       "   0.565518856048584],\n",
       "  'val_accuracy': [0.7599298357963562,\n",
       "   0.7721104025840759,\n",
       "   0.7761485576629639,\n",
       "   0.7813782691955566,\n",
       "   0.7858467102050781]},\n",
       " {'loss': [0.9533413648605347,\n",
       "   0.9088230133056641,\n",
       "   0.8962516784667969,\n",
       "   0.8878074884414673,\n",
       "   0.8807430863380432,\n",
       "   0.8754479885101318,\n",
       "   0.8707888126373291,\n",
       "   0.8685436844825745,\n",
       "   0.8638094067573547,\n",
       "   0.8613510131835938],\n",
       "  'accuracy': [0.8236058950424194,\n",
       "   0.8540657758712769,\n",
       "   0.8636247515678406,\n",
       "   0.8694900870323181,\n",
       "   0.8749889135360718,\n",
       "   0.8787825107574463,\n",
       "   0.8827816247940063,\n",
       "   0.8840091228485107,\n",
       "   0.8881637454032898,\n",
       "   0.890102207660675],\n",
       "  'val_loss': [0.9077890515327454,\n",
       "   0.8979666233062744,\n",
       "   0.8951089978218079,\n",
       "   0.8963321447372437,\n",
       "   0.8964167833328247,\n",
       "   0.8924387693405151,\n",
       "   0.894591748714447,\n",
       "   0.8959410786628723,\n",
       "   0.8964120745658875,\n",
       "   0.9001596570014954],\n",
       "  'val_accuracy': [0.8489341735839844,\n",
       "   0.8552231192588806,\n",
       "   0.8571759462356567,\n",
       "   0.8562822937965393,\n",
       "   0.8560505509376526,\n",
       "   0.8600556254386902,\n",
       "   0.8589964509010315,\n",
       "   0.859426736831665,\n",
       "   0.8582020401954651,\n",
       "   0.8563815951347351]}]"
      ]
     },
     "execution_count": 186,
     "metadata": {},
     "output_type": "execute_result"
    }
   ],
   "source": [
    "histories = [\n",
    "            model_2_history.history,\n",
    "            model_3_history.history,\n",
    "            model_4_history.history,\n",
    "            model_5_history.history]\n",
    "histories"
   ]
  },
  {
   "cell_type": "code",
   "execution_count": 187,
   "id": "c79e03ee",
   "metadata": {},
   "outputs": [
    {
     "data": {
      "image/png": "[encoded data removed]",
      "text/plain": [
       "<Figure size 1200x800 with 1 Axes>"
      ]
     },
     "metadata": {},
     "output_type": "display_data"
    }
   ],
   "source": [
    "plot_training_history(histories, metric = \"accuracy\")"
   ]
  },
  {
   "cell_type": "code",
   "execution_count": 188,
   "id": "0810fbb8",
   "metadata": {},
   "outputs": [
    {
     "data": {
      "image/png": "[encoded data removed]",
      "text/plain": [
       "<Figure size 1200x800 with 1 Axes>"
      ]
     },
     "metadata": {},
     "output_type": "display_data"
    }
   ],
   "source": [
    "plot_training_history(histories, metric = \"loss\")"
   ]
  },
  {
   "cell_type": "markdown",
   "id": "b0e6cdd0",
   "metadata": {},
   "source": [
    "* Upon analyzing these two plots, we can confidently conclude that there is no discernible potential for overfitting."
   ]
  },
  {
   "cell_type": "markdown",
   "id": "78bfd296",
   "metadata": {},
   "source": [
    "## Save and load best performing model"
   ]
  },
  {
   "cell_type": "code",
   "execution_count": 193,
   "id": "c30d4f99",
   "metadata": {},
   "outputs": [
    {
     "name": "stderr",
     "output_type": "stream",
     "text": [
      "WARNING:absl:Found untraced functions such as lstm_cell_19_layer_call_fn, lstm_cell_19_layer_call_and_return_conditional_losses, lstm_cell_20_layer_call_fn, lstm_cell_20_layer_call_and_return_conditional_losses while saving (showing 4 of 4). These functions will not be directly callable after loading.\n"
     ]
    },
    {
     "name": "stdout",
     "output_type": "stream",
     "text": [
      "INFO:tensorflow:Assets written to: skimlit_tribrid_model\\assets\n"
     ]
    },
    {
     "name": "stderr",
     "output_type": "stream",
     "text": [
      "INFO:tensorflow:Assets written to: skimlit_tribrid_model\\assets\n"
     ]
    }
   ],
   "source": [
    "# Save best performing model to SavedModel format (default)\n",
    "model_5.save(\"skimlit_tribrid_model\") # model will be saved to path specified by string"
   ]
  }
 ],
 "metadata": {
  "kernelspec": {
   "display_name": "cuda env",
   "language": "python",
   "name": "tf"
  },
  "language_info": {
   "codemirror_mode": {
    "name": "ipython",
    "version": 3
   },
   "file_extension": ".py",
   "mimetype": "text/x-python",
   "name": "python",
   "nbconvert_exporter": "python",
   "pygments_lexer": "ipython3",
   "version": "3.8.17"
  }
 },
 "nbformat": 4,
 "nbformat_minor": 5
}
